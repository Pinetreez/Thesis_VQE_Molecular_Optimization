{
  "nbformat": 4,
  "nbformat_minor": 0,
  "metadata": {
    "colab": {
      "provenance": []
    },
    "kernelspec": {
      "name": "python3",
      "display_name": "Python 3"
    },
    "language_info": {
      "name": "python"
    }
  },
  "cells": [
    {
      "cell_type": "markdown",
      "source": [
        "**$H_3$ Molecule with Hartree Fock Initialization:**"
      ],
      "metadata": {
        "id": "qdisjLyyb1IP"
      }
    },
    {
      "cell_type": "code",
      "source": [
        "pip install pennylane --quiet"
      ],
      "metadata": {
        "id": "NeA2rXfPWYH4",
        "colab": {
          "base_uri": "https://localhost:8080/"
        },
        "outputId": "a19da85b-5621-4e50-9554-64ad62994847"
      },
      "execution_count": null,
      "outputs": [
        {
          "output_type": "stream",
          "name": "stdout",
          "text": [
            "\u001b[2K     \u001b[90m━━━━━━━━━━━━━━━━━━━━━━━━━━━━━━━━━━━━━━━\u001b[0m \u001b[32m57.1/57.1 kB\u001b[0m \u001b[31m524.7 kB/s\u001b[0m eta \u001b[36m0:00:00\u001b[0m\n",
            "\u001b[2K   \u001b[90m━━━━━━━━━━━━━━━━━━━━━━━━━━━━━━━━━━━━━━━━\u001b[0m \u001b[32m4.8/4.8 MB\u001b[0m \u001b[31m10.5 MB/s\u001b[0m eta \u001b[36m0:00:00\u001b[0m\n",
            "\u001b[2K   \u001b[90m━━━━━━━━━━━━━━━━━━━━━━━━━━━━━━━━━━━━━━━━\u001b[0m \u001b[32m930.8/930.8 kB\u001b[0m \u001b[31m44.1 MB/s\u001b[0m eta \u001b[36m0:00:00\u001b[0m\n",
            "\u001b[2K   \u001b[90m━━━━━━━━━━━━━━━━━━━━━━━━━━━━━━━━━━━━━━━━\u001b[0m \u001b[32m2.6/2.6 MB\u001b[0m \u001b[31m58.7 MB/s\u001b[0m eta \u001b[36m0:00:00\u001b[0m\n",
            "\u001b[2K   \u001b[90m━━━━━━━━━━━━━━━━━━━━━━━━━━━━━━━━━━━━━━━━\u001b[0m \u001b[32m2.1/2.1 MB\u001b[0m \u001b[31m67.0 MB/s\u001b[0m eta \u001b[36m0:00:00\u001b[0m\n",
            "\u001b[2K   \u001b[90m━━━━━━━━━━━━━━━━━━━━━━━━━━━━━━━━━━━━━━━━\u001b[0m \u001b[32m167.9/167.9 kB\u001b[0m \u001b[31m11.6 MB/s\u001b[0m eta \u001b[36m0:00:00\u001b[0m\n",
            "\u001b[2K   \u001b[90m━━━━━━━━━━━━━━━━━━━━━━━━━━━━━━━━━━━━━━━━\u001b[0m \u001b[32m8.6/8.6 MB\u001b[0m \u001b[31m41.9 MB/s\u001b[0m eta \u001b[36m0:00:00\u001b[0m\n",
            "\u001b[?25h"
          ]
        }
      ]
    },
    {
      "cell_type": "code",
      "source": [
        "pip install geometric --quiet"
      ],
      "metadata": {
        "id": "PU9FiHq0p-0W",
        "colab": {
          "base_uri": "https://localhost:8080/"
        },
        "outputId": "96b98beb-c796-45d5-8a6b-ed96b7d2ee11"
      },
      "execution_count": null,
      "outputs": [
        {
          "output_type": "stream",
          "name": "stdout",
          "text": [
            "\u001b[2K     \u001b[90m━━━━━━━━━━━━━━━━━━━━━━━━━━━━━━━━━━━━━━━\u001b[0m \u001b[32m386.0/386.0 kB\u001b[0m \u001b[31m1.1 MB/s\u001b[0m eta \u001b[36m0:00:00\u001b[0m\n",
            "\u001b[?25h  Preparing metadata (setup.py) ... \u001b[?25l\u001b[?25hdone\n",
            "  Building wheel for geometric (setup.py) ... \u001b[?25l\u001b[?25hdone\n"
          ]
        }
      ]
    },
    {
      "cell_type": "code",
      "source": [
        "pip install --upgrade pyscf --quiet"
      ],
      "metadata": {
        "id": "N_21rUT8f1FL",
        "colab": {
          "base_uri": "https://localhost:8080/"
        },
        "outputId": "28099047-15c5-4491-af4e-e921365a0f22"
      },
      "execution_count": null,
      "outputs": [
        {
          "output_type": "stream",
          "name": "stdout",
          "text": [
            "\u001b[2K   \u001b[90m━━━━━━━━━━━━━━━━━━━━━━━━━━━━━━━━━━━━━━━━\u001b[0m \u001b[32m51.2/51.2 MB\u001b[0m \u001b[31m10.5 MB/s\u001b[0m eta \u001b[36m0:00:00\u001b[0m\n",
            "\u001b[?25h"
          ]
        }
      ]
    },
    {
      "cell_type": "markdown",
      "source": [
        "# Initial Geometry Hartree Fock Calculations"
      ],
      "metadata": {
        "id": "bYppNz_YgH6l"
      }
    },
    {
      "cell_type": "code",
      "source": [
        "from pyscf import gto, scf\n",
        "import numpy as np"
      ],
      "metadata": {
        "id": "DG9LOmffeYFy"
      },
      "execution_count": null,
      "outputs": []
    },
    {
      "cell_type": "markdown",
      "source": [
        "I found the initial coordinates considering the molecular geometry is an equilateral triangle (every angle is 60 degrees) with side length = $0.88 Å$."
      ],
      "metadata": {
        "id": "M_TJNSTHoOF-"
      }
    },
    {
      "cell_type": "code",
      "source": [
        "from pyscf import gto, scf\n",
        "from pyscf.geomopt import geometric_solver  # Internal optimizer\n",
        "from pyscf.geomopt.geometric_solver import optimize\n",
        "\n",
        "\n",
        "# Defining initial geometry\n",
        "# Equilateral triangle geometry for H3+ (side length = 0.88 Å)\n",
        "mol = gto.M(\n",
        "    atom='''\n",
        "    H  0.000   0.000   0.0\n",
        "    H  0.000   0.880   0.0\n",
        "    H  0.440   0.762   0.0  # x=0.88*cos(60°), y=0.88*sin(60°)\n",
        "    ''',\n",
        "    basis='sto-3g',\n",
        "    charge=1,  # H3+ has +1 charge\n",
        "    unit='angstrom')\n",
        "\n",
        "# Run HF calculation\n",
        "mf = scf.RHF(mol).run()\n",
        "print(\"Initial HF energy:\", mf.e_tot)\n",
        "\n",
        "# Optimize geometry\n",
        "mol_optimized = geometric_solver.optimize(mf)\n",
        "print(\"Optimized coordinates:\", mol_optimized.atom_coords())\n",
        "\n",
        "# Get final energy\n",
        "mf_optimized = scf.RHF(mol_optimized).run()\n",
        "print(\"Optimized HF energy:\", mf_optimized.e_tot)"
      ],
      "metadata": {
        "colab": {
          "base_uri": "https://localhost:8080/"
        },
        "id": "KUABrOcigs-g",
        "outputId": "5f3c4e4a-c29c-489d-9dcc-d609c653c430"
      },
      "execution_count": null,
      "outputs": [
        {
          "output_type": "stream",
          "name": "stdout",
          "text": [
            "converged SCF energy = -1.01957463130476\n"
          ]
        },
        {
          "output_type": "stream",
          "name": "stderr",
          "text": [
            "geometric-optimize called with the following command line:\n",
            "/usr/local/lib/python3.11/dist-packages/colab_kernel_launcher.py -f /root/.local/share/jupyter/runtime/kernel-12f71143-8458-4ceb-962f-9e31d03c2879.json\n",
            "\n",
            "                                        \u001b[91m())))))))))))))))/\u001b[0m                     \n",
            "                                    \u001b[91m())))))))))))))))))))))))),\u001b[0m                \n",
            "                                \u001b[91m*)))))))))))))))))))))))))))))))))\u001b[0m             \n",
            "                        \u001b[94m#,\u001b[0m    \u001b[91m()))))))))/\u001b[0m                \u001b[91m.)))))))))),\u001b[0m          \n",
            "                      \u001b[94m#%%%%,\u001b[0m  \u001b[91m())))))\u001b[0m                        \u001b[91m.))))))))*\u001b[0m        \n",
            "                      \u001b[94m*%%%%%%,\u001b[0m  \u001b[91m))\u001b[0m              \u001b[93m..\u001b[0m              \u001b[91m,))))))).\u001b[0m      \n",
            "                        \u001b[94m*%%%%%%,\u001b[0m         \u001b[93m***************/.\u001b[0m        \u001b[91m.)))))))\u001b[0m     \n",
            "                \u001b[94m#%%/\u001b[0m      \u001b[94m(%%%%%%,\u001b[0m    \u001b[93m/*********************.\u001b[0m       \u001b[91m)))))))\u001b[0m    \n",
            "              \u001b[94m.%%%%%%#\u001b[0m      \u001b[94m*%%%%%%,\u001b[0m  \u001b[93m*******/,\u001b[0m     \u001b[93m**********,\u001b[0m      \u001b[91m.))))))\u001b[0m   \n",
            "                \u001b[94m.%%%%%%/\u001b[0m      \u001b[94m*%%%%%%,\u001b[0m  \u001b[93m**\u001b[0m              \u001b[93m********\u001b[0m      \u001b[91m.))))))\u001b[0m  \n",
            "          \u001b[94m##\u001b[0m      \u001b[94m.%%%%%%/\u001b[0m      \u001b[94m(%%%%%%,\u001b[0m                  \u001b[93m,******\u001b[0m      \u001b[91m/)))))\u001b[0m  \n",
            "        \u001b[94m%%%%%%\u001b[0m      \u001b[94m.%%%%%%#\u001b[0m      \u001b[94m*%%%%%%,\u001b[0m    \u001b[92m,/////.\u001b[0m       \u001b[93m******\u001b[0m      \u001b[91m))))))\u001b[0m \n",
            "      \u001b[94m#%\u001b[0m      \u001b[94m%%\u001b[0m      \u001b[94m.%%%%%%/\u001b[0m      \u001b[94m*%%%%%%,\u001b[0m  \u001b[92m////////,\u001b[0m      \u001b[93m*****/\u001b[0m     \u001b[91m,)))))\u001b[0m \n",
            "    \u001b[94m#%%\u001b[0m  \u001b[94m%%%\u001b[0m  \u001b[94m%%%#\u001b[0m      \u001b[94m.%%%%%%/\u001b[0m      \u001b[94m(%%%%%%,\u001b[0m  \u001b[92m///////.\u001b[0m     \u001b[93m/*****\u001b[0m      \u001b[91m))))).\u001b[0m\n",
            "  \u001b[94m#%%%%.\u001b[0m      \u001b[94m%%%%%#\u001b[0m      \u001b[94m/%%%%%%*\u001b[0m      \u001b[94m#%%%%%%\u001b[0m   \u001b[92m/////)\u001b[0m     \u001b[93m******\u001b[0m      \u001b[91m))))),\u001b[0m\n",
            "    \u001b[94m#%%%%##%\u001b[0m  \u001b[94m%%%#\u001b[0m      \u001b[94m.%%%%%%/\u001b[0m      \u001b[94m(%%%%%%,\u001b[0m  \u001b[92m///////.\u001b[0m     \u001b[93m/*****\u001b[0m      \u001b[91m))))).\u001b[0m\n",
            "      \u001b[94m##\u001b[0m     \u001b[94m%%%\u001b[0m      \u001b[94m.%%%%%%/\u001b[0m      \u001b[94m*%%%%%%,\u001b[0m  \u001b[92m////////.\u001b[0m      \u001b[93m*****/\u001b[0m     \u001b[91m,)))))\u001b[0m \n",
            "        \u001b[94m#%%%%#\u001b[0m      \u001b[94m/%%%%%%/\u001b[0m      \u001b[94m(%%%%%%\u001b[0m      \u001b[92m/)/)//\u001b[0m       \u001b[93m******\u001b[0m      \u001b[91m))))))\u001b[0m \n",
            "          \u001b[94m##\u001b[0m      \u001b[94m.%%%%%%/\u001b[0m      \u001b[94m(%%%%%%,\u001b[0m                  \u001b[93m*******\u001b[0m      \u001b[91m))))))\u001b[0m  \n",
            "                \u001b[94m.%%%%%%/\u001b[0m      \u001b[94m*%%%%%%,\u001b[0m  \u001b[93m**.\u001b[0m             \u001b[93m/*******\u001b[0m      \u001b[91m.))))))\u001b[0m  \n",
            "              \u001b[94m*%%%%%%/\u001b[0m      \u001b[94m(%%%%%%\u001b[0m   \u001b[93m********/*..,*/*********\u001b[0m       \u001b[91m*))))))\u001b[0m   \n",
            "                \u001b[94m#%%/\u001b[0m      \u001b[94m(%%%%%%,\u001b[0m    \u001b[93m*********************/\u001b[0m        \u001b[91m)))))))\u001b[0m    \n",
            "                        \u001b[94m*%%%%%%,\u001b[0m         \u001b[93m,**************/\u001b[0m         \u001b[91m,))))))/\u001b[0m     \n",
            "                      \u001b[94m(%%%%%%\u001b[0m   \u001b[91m()\u001b[0m                              \u001b[91m))))))))\u001b[0m       \n",
            "                      \u001b[94m#%%%%,\u001b[0m  \u001b[91m())))))\u001b[0m                        \u001b[91m,)))))))),\u001b[0m        \n",
            "                        \u001b[94m#,\u001b[0m    \u001b[91m())))))))))\u001b[0m                \u001b[91m,)))))))))).\u001b[0m          \n",
            "                                 \u001b[91m()))))))))))))))))))))))))))))))/\u001b[0m             \n",
            "                                    \u001b[91m())))))))))))))))))))))))).\u001b[0m                \n",
            "                                         \u001b[91m())))))))))))))),\u001b[0m                     \n",
            "\n",
            "-=# \u001b[1;94m geomeTRIC started. Version: 1.1 \u001b[0m #=-\n",
            "Current date and time: 2025-08-05 21:40:09\n",
            "#========================================================#\n",
            "#| \u001b[92m    Arguments passed to driver run_optimizer():     \u001b[0m |#\n",
            "#========================================================#\n",
            "customengine              <pyscf.geomopt.geometric_solver.PySCFEngine object at 0x7c5b29b2f790> \n",
            "input                     /tmp/tmpvqurmpo0/b0c47fb3-4a36-4fa7-9abd-f3f0d87617d4 \n",
            "logIni                    /usr/local/lib/python3.11/dist-packages/pyscf/geomopt/log.ini \n",
            "maxiter                   100 \n",
            "----------------------------------------------------------\n",
            "Custom engine selected.\n",
            "Bonds will be generated from interatomic distances less than 1.20 times sum of covalent radii\n",
            "9 internal coordinates being used (instead of 9 Cartesians)\n",
            "Internal coordinate system (atoms numbered from 1):\n",
            "Distance 1-2\n",
            "Distance 1-3\n",
            "Distance 2-3\n",
            "Angle 2-1-3\n",
            "Angle 1-2-3\n",
            "Angle 1-3-2\n",
            "Translation-X 1-3\n",
            "Translation-Y 1-3\n",
            "Translation-Z 1-3\n",
            "Rotation-A 1-3\n",
            "Rotation-B 1-3\n",
            "Rotation-C 1-3\n",
            "<class 'geometric.internal.Distance'> : 3\n",
            "<class 'geometric.internal.Angle'> : 3\n",
            "<class 'geometric.internal.TranslationX'> : 1\n",
            "<class 'geometric.internal.TranslationY'> : 1\n",
            "<class 'geometric.internal.TranslationZ'> : 1\n",
            "<class 'geometric.internal.RotationA'> : 1\n",
            "<class 'geometric.internal.RotationB'> : 1\n",
            "<class 'geometric.internal.RotationC'> : 1\n",
            "> ===== Optimization Info: ====\n",
            "> Job type: Energy minimization\n",
            "> Maximum number of optimization cycles: 100\n",
            "> Initial / maximum trust radius (Angstrom): 0.100 / 0.300\n",
            "> Convergence Criteria:\n",
            "> Will converge when all 5 criteria are reached:\n",
            ">  |Delta-E| < 1.00e-06\n",
            ">  RMS-Grad  < 3.00e-04\n",
            ">  Max-Grad  < 4.50e-04\n",
            ">  RMS-Disp  < 1.20e-03\n",
            ">  Max-Disp  < 1.80e-03\n",
            "> === End Optimization Info ===\n"
          ]
        },
        {
          "output_type": "stream",
          "name": "stdout",
          "text": [
            "Initial HF energy: -1.019574631304765\n",
            "\n",
            "Geometry optimization cycle 1\n",
            "Cartesian coordinates (Angstrom)\n",
            " Atom        New coordinates             dX        dY        dZ\n",
            "   H   0.000000   0.000000   0.000000    0.000000  0.000000  0.000000\n",
            "   H   0.000000   0.880000   0.000000    0.000000  0.000000  0.000000\n",
            "   H   0.440000   0.762000   0.000000    0.000000  0.000000  0.000000\n",
            "converged SCF energy = -1.0195746313049\n",
            "--------------- RHF_Scanner gradients ---------------\n",
            "         x                y                z\n",
            "0 H     0.0265485252     0.0990384341     0.0000000000\n",
            "1 H     0.7909352898    -0.2651756796     0.0000000000\n",
            "2 H    -0.8174838150     0.1661372455     0.0000000000\n",
            "----------------------------------------------\n",
            "cycle 1: E = -1.0195746313  dE = -1.01957  norm(grad) = 1.18418\n"
          ]
        },
        {
          "output_type": "stream",
          "name": "stderr",
          "text": [
            "Step    0 : Gradient = 6.837e-01/8.342e-01 (rms/max) Energy = -1.0195746313\n",
            "Hessian Eigenvalues: 5.00000e-02 5.00000e-02 5.00000e-02 ... 1.00000e-01 1.00000e-01 8.70211e-01\n"
          ]
        },
        {
          "output_type": "stream",
          "name": "stdout",
          "text": [
            "\n",
            "Geometry optimization cycle 2\n",
            "Cartesian coordinates (Angstrom)\n",
            " Atom        New coordinates             dX        dY        dZ\n",
            "   H  -0.009064  -0.033822  -0.000000   -0.009064 -0.033822 -0.000000\n",
            "   H  -0.109596   0.927517  -0.000000   -0.109596  0.047517 -0.000000\n",
            "   H   0.558660   0.748305  -0.000000    0.118660 -0.013695 -0.000000\n",
            "converged SCF energy = -1.21443369707476\n",
            "--------------- RHF_Scanner gradients ---------------\n",
            "         x                y                z\n",
            "0 H     0.0053002270     0.0197345244    -0.0000000000\n",
            "1 H     0.1614384617    -0.0538566820    -0.0000000000\n",
            "2 H    -0.1667386886     0.0341221576     0.0000000000\n",
            "----------------------------------------------\n",
            "cycle 2: E = -1.21443369707  dE = -0.194859  norm(grad) = 0.24155\n"
          ]
        },
        {
          "output_type": "stream",
          "name": "stderr",
          "text": [
            "Step    1 : Displace = \u001b[0m9.960e-02\u001b[0m/\u001b[0m1.195e-01\u001b[0m (rms/max) Trust = 1.000e-01 (=) Grad = \u001b[0m1.395e-01\u001b[0m/\u001b[0m1.702e-01\u001b[0m (rms/max) E (change) = -1.2144336971 (\u001b[0m-1.949e-01\u001b[0m) Quality = \u001b[0m0.791\u001b[0m\n",
            "Hessian Eigenvalues: 5.00000e-02 5.00000e-02 5.00000e-02 ... 1.00000e-01 1.03213e-01 9.67730e-01\n"
          ]
        },
        {
          "output_type": "stream",
          "name": "stdout",
          "text": [
            "\n",
            "Geometry optimization cycle 3\n",
            "Cartesian coordinates (Angstrom)\n",
            " Atom        New coordinates             dX        dY        dZ\n",
            "   H  -0.015748  -0.058702  -0.000000   -0.006685 -0.024880 -0.000000\n",
            "   H  -0.136729   0.948097  -0.000000   -0.027132  0.020580  0.000000\n",
            "   H   0.592477   0.752605  -0.000000    0.033817  0.004300  0.000000\n",
            "converged SCF energy = -1.2305879830112\n",
            "--------------- RHF_Scanner gradients ---------------\n",
            "         x                y                z\n",
            "0 H    -0.0016921466    -0.0063297095    -0.0000000000\n",
            "1 H     0.0947984144    -0.0220175149     0.0000000000\n",
            "2 H    -0.0931062678     0.0283472244     0.0000000000\n",
            "----------------------------------------------\n",
            "cycle 3: E = -1.23058798301  dE = -0.0161543  norm(grad) = 0.137793\n"
          ]
        },
        {
          "output_type": "stream",
          "name": "stderr",
          "text": [
            "Step    2 : Displace = \u001b[0m3.155e-02\u001b[0m/\u001b[0m3.409e-02\u001b[0m (rms/max) Trust = 1.414e-01 (\u001b[92m+\u001b[0m) Grad = \u001b[0m7.955e-02\u001b[0m/\u001b[0m9.733e-02\u001b[0m (rms/max) E (change) = -1.2305879830 (\u001b[0m-1.615e-02\u001b[0m) Quality = \u001b[0m1.494\u001b[0m\n",
            "Hessian Eigenvalues: 5.00000e-02 5.00000e-02 5.00000e-02 ... 1.00000e-01 1.24000e-01 3.88353e-01\n"
          ]
        },
        {
          "output_type": "stream",
          "name": "stdout",
          "text": [
            "\n",
            "Geometry optimization cycle 4\n",
            "Cartesian coordinates (Angstrom)\n",
            " Atom        New coordinates             dX        dY        dZ\n",
            "   H  -0.008194  -0.030400  -0.000000    0.007554  0.028302  0.000000\n",
            "   H  -0.188265   0.946698  -0.000000   -0.051536 -0.001399 -0.000000\n",
            "   H   0.636459   0.725702  -0.000000    0.043982 -0.026903 -0.000000\n",
            "converged SCF energy = -1.24306812098916\n",
            "--------------- RHF_Scanner gradients ---------------\n",
            "         x                y                z\n",
            "0 H    -0.0014241761    -0.0052931962     0.0000000000\n",
            "1 H     0.0360900206    -0.0068390184     0.0000000000\n",
            "2 H    -0.0346658444     0.0121322146    -0.0000000000\n",
            "----------------------------------------------\n",
            "cycle 4: E = -1.24306812099  dE = -0.0124801  norm(grad) = 0.0522324\n"
          ]
        },
        {
          "output_type": "stream",
          "name": "stderr",
          "text": [
            "Step    3 : Displace = \u001b[0m4.537e-02\u001b[0m/\u001b[0m5.156e-02\u001b[0m (rms/max) Trust = 2.000e-01 (\u001b[92m+\u001b[0m) Grad = \u001b[0m3.016e-02\u001b[0m/\u001b[0m3.673e-02\u001b[0m (rms/max) E (change) = -1.2430681210 (\u001b[0m-1.248e-02\u001b[0m) Quality = \u001b[0m1.319\u001b[0m\n",
            "Hessian Eigenvalues: 5.00000e-02 5.00000e-02 5.00000e-02 ... 9.99999e-02 1.10548e-01 2.69371e-01\n"
          ]
        },
        {
          "output_type": "stream",
          "name": "stdout",
          "text": [
            "\n",
            "Geometry optimization cycle 5\n",
            "Cartesian coordinates (Angstrom)\n",
            " Atom        New coordinates             dX        dY        dZ\n",
            "   H  -0.002485  -0.009061   0.000000    0.005710  0.021339  0.000000\n",
            "   H  -0.219689   0.943675  -0.000000   -0.031424 -0.003023  0.000000\n",
            "   H   0.662174   0.707387  -0.000000    0.025715 -0.018315  0.000000\n",
            "converged SCF energy = -1.24610005593287\n",
            "--------------- RHF_Scanner gradients ---------------\n",
            "         x                y                z\n",
            "0 H    -0.0004828211    -0.0017648147     0.0000000000\n",
            "1 H     0.0145246071    -0.0029538698    -0.0000000000\n",
            "2 H    -0.0140417861     0.0047186845    -0.0000000000\n",
            "----------------------------------------------\n",
            "cycle 5: E = -1.24610005593  dE = -0.00303193  norm(grad) = 0.0210351\n"
          ]
        },
        {
          "output_type": "stream",
          "name": "stderr",
          "text": [
            "Step    4 : Displace = \u001b[0m2.876e-02\u001b[0m/\u001b[0m3.157e-02\u001b[0m (rms/max) Trust = 2.828e-01 (\u001b[92m+\u001b[0m) Grad = \u001b[0m1.214e-02\u001b[0m/\u001b[0m1.482e-02\u001b[0m (rms/max) E (change) = -1.2461000559 (\u001b[0m-3.032e-03\u001b[0m) Quality = \u001b[0m1.355\u001b[0m\n",
            "Hessian Eigenvalues: 5.00000e-02 5.00000e-02 5.00000e-02 ... 8.90406e-02 1.00000e-01 2.03617e-01\n"
          ]
        },
        {
          "output_type": "stream",
          "name": "stdout",
          "text": [
            "\n",
            "Geometry optimization cycle 6\n",
            "Cartesian coordinates (Angstrom)\n",
            " Atom        New coordinates             dX        dY        dZ\n",
            "   H   0.000855   0.003361   0.000000    0.003340  0.012422  0.000000\n",
            "   H  -0.239667   0.942394  -0.000000   -0.019978 -0.001281  0.000000\n",
            "   H   0.678812   0.696245  -0.000000    0.016638 -0.011141  0.000000\n",
            "converged SCF energy = -1.24679813351587\n",
            "--------------- RHF_Scanner gradients ---------------\n",
            "         x                y                z\n",
            "0 H    -0.0000814256    -0.0002863761     0.0000000000\n",
            "1 H     0.0039170455    -0.0008997955     0.0000000000\n",
            "2 H    -0.0038356199     0.0011861716    -0.0000000000\n",
            "----------------------------------------------\n",
            "cycle 6: E = -1.24679813352  dE = -0.000698078  norm(grad) = 0.00568863\n"
          ]
        },
        {
          "output_type": "stream",
          "name": "stderr",
          "text": [
            "Step    5 : Displace = \u001b[0m1.796e-02\u001b[0m/\u001b[0m2.003e-02\u001b[0m (rms/max) Trust = 3.000e-01 (\u001b[92m+\u001b[0m) Grad = \u001b[0m3.284e-03\u001b[0m/\u001b[0m4.019e-03\u001b[0m (rms/max) E (change) = -1.2467981335 (\u001b[0m-6.981e-04\u001b[0m) Quality = \u001b[0m1.233\u001b[0m\n",
            "Hessian Eigenvalues: 5.00000e-02 5.00000e-02 5.00000e-02 ... 7.36093e-02 1.00000e-01 1.81717e-01\n"
          ]
        },
        {
          "output_type": "stream",
          "name": "stdout",
          "text": [
            "\n",
            "Geometry optimization cycle 7\n",
            "Cartesian coordinates (Angstrom)\n",
            " Atom        New coordinates             dX        dY        dZ\n",
            "   H   0.001936   0.007364   0.000000    0.001081  0.004003  0.000000\n",
            "   H  -0.246722   0.942155  -0.000000   -0.007055 -0.000239  0.000000\n",
            "   H   0.684787   0.692481  -0.000000    0.005975 -0.003764  0.000000\n",
            "converged SCF energy = -1.24685851775877\n",
            "--------------- RHF_Scanner gradients ---------------\n",
            "         x                y                z\n",
            "0 H    -0.0000143197    -0.0000518011     0.0000000000\n",
            "1 H     0.0005893913    -0.0001305338    -0.0000000000\n",
            "2 H    -0.0005750717     0.0001823349    -0.0000000000\n",
            "----------------------------------------------\n",
            "cycle 7: E = -1.24685851776  dE = -6.03842e-05  norm(grad) = 0.000855139\n"
          ]
        },
        {
          "output_type": "stream",
          "name": "stderr",
          "text": [
            "Step    6 : Displace = \u001b[0m6.242e-03\u001b[0m/\u001b[0m7.063e-03\u001b[0m (rms/max) Trust = 3.000e-01 (=) Grad = \u001b[0m4.937e-04\u001b[0m/\u001b[0m6.037e-04\u001b[0m (rms/max) E (change) = -1.2468585178 (\u001b[0m-6.038e-05\u001b[0m) Quality = \u001b[0m1.139\u001b[0m\n",
            "Hessian Eigenvalues: 5.00000e-02 5.00000e-02 5.00000e-02 ... 6.51112e-02 1.00000e-01 1.74473e-01\n"
          ]
        },
        {
          "output_type": "stream",
          "name": "stdout",
          "text": [
            "\n",
            "Geometry optimization cycle 8\n",
            "Cartesian coordinates (Angstrom)\n",
            " Atom        New coordinates             dX        dY        dZ\n",
            "   H   0.002130   0.008087   0.000000    0.000195  0.000723  0.000000\n",
            "   H  -0.247973   0.942104  -0.000000   -0.001251 -0.000050  0.000000\n",
            "   H   0.685842   0.691809  -0.000000    0.001056 -0.000673  0.000000\n",
            "converged SCF energy = -1.24686000267813\n",
            "--------------- RHF_Scanner gradients ---------------\n",
            "         x                y                z\n",
            "0 H    -0.0000005556    -0.0000025319     0.0000000000\n",
            "1 H     0.0000290907    -0.0000063503    -0.0000000000\n",
            "2 H    -0.0000285351     0.0000088822    -0.0000000000\n",
            "----------------------------------------------\n",
            "cycle 8: E = -1.24686000268  dE = -1.48492e-06  norm(grad) = 4.22666e-05\n"
          ]
        },
        {
          "output_type": "stream",
          "name": "stderr",
          "text": [
            "Step    7 : Displace = \u001b[92m1.110e-03\u001b[0m/\u001b[92m1.252e-03\u001b[0m (rms/max) Trust = 3.000e-01 (=) Grad = \u001b[92m2.440e-05\u001b[0m/\u001b[92m2.989e-05\u001b[0m (rms/max) E (change) = -1.2468600027 (\u001b[0m-1.485e-06\u001b[0m) Quality = \u001b[0m1.047\u001b[0m\n",
            "Hessian Eigenvalues: 5.00000e-02 5.00000e-02 5.00000e-02 ... 6.25550e-02 1.00000e-01 1.72640e-01\n"
          ]
        },
        {
          "output_type": "stream",
          "name": "stdout",
          "text": [
            "\n",
            "Geometry optimization cycle 9\n",
            "Cartesian coordinates (Angstrom)\n",
            " Atom        New coordinates             dX        dY        dZ\n",
            "   H   0.002140   0.008125   0.000000    0.000010  0.000037  0.000000\n",
            "   H  -0.248038   0.942101  -0.000000   -0.000065 -0.000003  0.000000\n",
            "   H   0.685897   0.691774  -0.000000    0.000055 -0.000035  0.000000\n",
            "converged SCF energy = -1.24686000634101\n",
            "--------------- RHF_Scanner gradients ---------------\n",
            "         x                y                z\n",
            "0 H     0.0000000384    -0.0000000139     0.0000000000\n",
            "1 H     0.0000002013    -0.0000000157    -0.0000000000\n",
            "2 H    -0.0000002396     0.0000000296     0.0000000000\n",
            "----------------------------------------------\n",
            "cycle 9: E = -1.24686000634  dE = -3.66288e-09  norm(grad) = 3.17383e-07\n"
          ]
        },
        {
          "output_type": "stream",
          "name": "stderr",
          "text": [
            "Step    8 : Displace = \u001b[92m5.757e-05\u001b[0m/\u001b[92m6.501e-05\u001b[0m (rms/max) Trust = 3.000e-01 (=) Grad = \u001b[92m1.832e-07\u001b[0m/\u001b[92m2.415e-07\u001b[0m (rms/max) E (change) = -1.2468600063 (\u001b[92m-3.663e-09\u001b[0m) Quality = \u001b[0m1.008\u001b[0m\n",
            "Hessian Eigenvalues: 5.00000e-02 5.00000e-02 5.00000e-02 ... 6.25550e-02 1.00000e-01 1.72640e-01\n",
            "Converged! =D\n",
            "\n",
            "    #==========================================================================#\n",
            "    #| If this code has benefited your research, please support us by citing: |#\n",
            "    #|                                                                        |#\n",
            "    #| Wang, L.-P.; Song, C.C. (2016) \"Geometry optimization made simple with |#\n",
            "    #| translation and rotation coordinates\", J. Chem, Phys. 144, 214108.     |#\n",
            "    #| http://dx.doi.org/10.1063/1.4952956                                    |#\n",
            "    #==========================================================================#\n",
            "    Time elapsed since start of run_optimizer: 0.799 seconds\n"
          ]
        },
        {
          "output_type": "stream",
          "name": "stdout",
          "text": [
            "Optimized coordinates: [[ 4.04457984e-03  1.53533457e-02  2.80529654e-15]\n",
            " [-4.68723464e-01  1.78031323e+00 -5.16188920e-16]\n",
            " [ 1.29615838e+00  1.30726372e+00 -3.59821557e-16]]\n",
            "converged SCF energy = -1.24686000634102\n",
            "Optimized HF energy: -1.246860006341021\n"
          ]
        }
      ]
    },
    {
      "cell_type": "code",
      "source": [
        "print(f\"Optimized coordinates (Bohr):\\n {mol_optimized.atom_coords()}\")\n",
        "print(\"Optimized HF energy:\", mf.e_tot)"
      ],
      "metadata": {
        "colab": {
          "base_uri": "https://localhost:8080/"
        },
        "id": "18-19MqarSvL",
        "outputId": "be8589e2-b38e-4c2b-d833-e15f20e5dd0a"
      },
      "execution_count": null,
      "outputs": [
        {
          "output_type": "stream",
          "name": "stdout",
          "text": [
            "Optimized coordinates (Bohr):\n",
            " [[ 4.04457984e-03  1.53533457e-02  2.80529654e-15]\n",
            " [-4.68723464e-01  1.78031323e+00 -5.16188920e-16]\n",
            " [ 1.29615838e+00  1.30726372e+00 -3.59821557e-16]]\n",
            "Optimized HF energy: -1.019574631304765\n"
          ]
        }
      ]
    },
    {
      "cell_type": "markdown",
      "source": [
        "# Step 2"
      ],
      "metadata": {
        "id": "fuYMcUvSjkV6"
      }
    },
    {
      "cell_type": "code",
      "execution_count": null,
      "metadata": {
        "id": "jlNml8ZSWJ5E"
      },
      "outputs": [],
      "source": [
        "import jax\n",
        "from jax import numpy as jnp\n",
        "\n",
        "jax.config.update(\"jax_enable_x64\", True)\n",
        "\n",
        "symbols = [\"H\", \"H\", \"H\"]\n",
        "\n",
        "x = jnp.array([[ 4.04457984e-03,  1.53533457e-02,  2.80529654e-15],\n",
        "               [-4.68723464e-01,  1.78031323e+00, -5.16188920e-16],\n",
        "               [ 1.29615838e+00,  1.30726372e+00, -3.59821557e-16]]) #Bohr"
      ]
    },
    {
      "cell_type": "code",
      "source": [
        "import pennylane as qml\n",
        "\n",
        "\n",
        "def H(x):\n",
        "    molecule = qml.qchem.Molecule(symbols, x, charge=1)\n",
        "    return qml.qchem.molecular_hamiltonian(molecule)[0]"
      ],
      "metadata": {
        "id": "ac1YbGB1WWFU"
      },
      "execution_count": null,
      "outputs": []
    },
    {
      "cell_type": "code",
      "source": [
        "hf = qml.qchem.hf_state(electrons=2, orbitals=6)\n",
        "print(hf)"
      ],
      "metadata": {
        "colab": {
          "base_uri": "https://localhost:8080/"
        },
        "id": "tNnDxueAWhVp",
        "outputId": "fde8075d-2989-4670-d5dc-ab45702d2399"
      },
      "execution_count": null,
      "outputs": [
        {
          "output_type": "stream",
          "name": "stdout",
          "text": [
            "[1 1 0 0 0 0]\n"
          ]
        }
      ]
    },
    {
      "cell_type": "code",
      "source": [
        "num_wires = 6\n",
        "dev = qml.device(\"default.qubit\", wires=num_wires)\n",
        "\n",
        "\n",
        "@qml.qnode(dev, interface=\"jax\")\n",
        "def circuit(params, obs, wires):\n",
        "    qml.BasisState(hf, wires=wires)\n",
        "    qml.DoubleExcitation(params[0], wires=[0, 1, 2, 3])\n",
        "    qml.DoubleExcitation(params[1], wires=[0, 1, 4, 5])\n",
        "\n",
        "    return qml.expval(obs)"
      ],
      "metadata": {
        "id": "HvUD8T9lWkJ3"
      },
      "execution_count": null,
      "outputs": []
    },
    {
      "cell_type": "code",
      "source": [
        "def cost(params, x):\n",
        "    hamiltonian = H(x)\n",
        "    return circuit(params, obs=hamiltonian, wires=range(num_wires))"
      ],
      "metadata": {
        "id": "iWV4dGH6WqkA"
      },
      "execution_count": null,
      "outputs": []
    },
    {
      "cell_type": "code",
      "source": [
        "def finite_diff(f, x, delta=0.01):\n",
        "    \"\"\"Compute the central-difference finite difference of a function\"\"\"\n",
        "    gradient = []\n",
        "    x = jnp.ravel(x)\n",
        "\n",
        "    for i in range(len(x)):\n",
        "        shift = jnp.zeros_like(x)\n",
        "        shift = shift.at[i].set(0.5*delta)\n",
        "        res = (f(x + shift) - f(x - shift)) * delta**-1\n",
        "        gradient.append(res)\n",
        "\n",
        "    return gradient\n",
        "\n",
        "\n",
        "def grad_x(params, x):\n",
        "    grad_h = finite_diff(H, x)\n",
        "    grad = [circuit(params, obs=obs, wires=range(num_wires)) for obs in grad_h]\n",
        "    return jnp.array(grad).reshape(x.shape)"
      ],
      "metadata": {
        "id": "bZvJ3UlAWs_h"
      },
      "execution_count": null,
      "outputs": []
    },
    {
      "cell_type": "code",
      "source": [
        "theta = jnp.array([0.0, 0.0])"
      ],
      "metadata": {
        "id": "AV9Wjq4kWwV1"
      },
      "execution_count": null,
      "outputs": []
    },
    {
      "cell_type": "code",
      "source": [
        "# store the values of the cost function\n",
        "energies = []\n",
        "\n",
        "# store the values of the bond length\n",
        "bond_length = []\n",
        "\n",
        "# Factor to convert from Bohrs to Angstroms\n",
        "bohr_angs = 0.529177210903\n",
        "\n",
        "for n in range(36):\n",
        "    # gradient for params\n",
        "    g_param = jax.grad(cost, argnums=[0])(theta, x)[0]\n",
        "    theta = theta - 0.8 * g_param\n",
        "\n",
        "    # gradient for coordinates\n",
        "    value, _ = jax.value_and_grad(cost, argnums=1)(theta, x)\n",
        "    grad = grad_x(theta, x)\n",
        "    x = x - 0.8 * grad\n",
        "    energies.append(value)\n",
        "    bond_length.append(jnp.linalg.norm(x[0] - x[1]) * bohr_angs)\n",
        "\n",
        "    if n % 4 == 0:\n",
        "        print(f\"Step = {n},  E = {energies[-1]:.8f} Ha,  bond length = {bond_length[-1]:.5f} A\")\n",
        "\n",
        "    # Check maximum component of the nuclear gradient\n",
        "    if jnp.max(grad_x(theta, x)) <= 1e-04:\n",
        "        break\n",
        "\n",
        "print(\"\\n\" f\"Final value of the ground-state energy = {energies[-1]:.8f} Ha\")\n",
        "print(\"\\n\" \"Ground-state equilibrium geometry\")\n",
        "print(\"%s %4s %8s %8s\" % (\"symbol\", \"x\", \"y\", \"z\"))\n",
        "for i, atom in enumerate(symbols):\n",
        "    print(f\"  {atom}    {x[0][i]:.4f}   {x[1][i]:.4f}   {x[2][i]:.4f}\")"
      ],
      "metadata": {
        "colab": {
          "base_uri": "https://localhost:8080/"
        },
        "id": "_szPfiAGWyqk",
        "outputId": "81ec5aaa-78bb-44b4-841b-b735d3b6c12c"
      },
      "execution_count": null,
      "outputs": [
        {
          "output_type": "stream",
          "name": "stdout",
          "text": [
            "Step = 0,  E = -1.26998908 Ha,  bond length = 0.96965 A\n",
            "Step = 4,  E = -1.27440899 Ha,  bond length = 0.98198 A\n",
            "Step = 8,  E = -1.27443681 Ha,  bond length = 0.98500 A\n",
            "\n",
            "Final value of the ground-state energy = -1.27443760 Ha\n",
            "\n",
            "Ground-state equilibrium geometry\n",
            "symbol    x        y        z\n",
            "  H    -0.0012   -0.4831   1.3157\n",
            "  H    -0.0042   1.7946   1.3125\n",
            "  H    -0.0000   0.0000   0.0000\n"
          ]
        }
      ]
    },
    {
      "cell_type": "code",
      "source": [
        "import matplotlib.pyplot as plt\n",
        "\n",
        "fig = plt.figure()\n",
        "fig.set_figheight(5)\n",
        "fig.set_figwidth(12)\n",
        "\n",
        "# Add energy plot on column 1\n",
        "E_fci = -1.27443765658\n",
        "E_vqe = jnp.array(energies)\n",
        "ax1 = fig.add_subplot(121)\n",
        "ax1.plot(range(n + 1), E_vqe - E_fci, \"go\", ls=\"dashed\")\n",
        "ax1.plot(range(n + 1), jnp.full(n + 1, 0.001), color=\"red\")\n",
        "ax1.set_xlabel(\"Optimization step\", fontsize=13)\n",
        "ax1.set_ylabel(\"$E_{VQE} - E_{FCI}$ (Hartree)\", fontsize=13)\n",
        "ax1.text(5, 0.0013, r\"Chemical accuracy\", fontsize=13)\n",
        "plt.yscale(\"log\")\n",
        "plt.xticks(fontsize=12)\n",
        "plt.yticks(fontsize=12)\n",
        "\n",
        "# Add bond length plot on column 2\n",
        "d_fci = 0.986\n",
        "ax2 = fig.add_subplot(122)\n",
        "ax2.plot(range(n + 1), bond_length, \"go\", ls=\"dashed\")\n",
        "ax2.plot(range(n + 1), jnp.full(n + 1, d_fci), color=\"red\")\n",
        "ax2.set_ylim([0.965, 0.99])\n",
        "ax2.set_xlabel(\"Optimization step\", fontsize=13)\n",
        "ax2.set_ylabel(\"bond length ($\\AA$)\", fontsize=13)\n",
        "ax2.text(5, 0.9865, r\"Equilibrium bond length\", fontsize=13)\n",
        "plt.xticks(fontsize=12)\n",
        "plt.yticks(fontsize=12)\n",
        "\n",
        "plt.subplots_adjust(wspace=0.3)\n",
        "plt.show()"
      ],
      "metadata": {
        "colab": {
          "base_uri": "https://localhost:8080/",
          "height": 480
        },
        "id": "XvnLBnuKYdkX",
        "outputId": "fe4eae5a-1d51-4d6e-ec7f-5a5ac3ee49bd"
      },
      "execution_count": null,
      "outputs": [
        {
          "output_type": "display_data",
          "data": {
            "text/plain": [
              "<Figure size 1200x500 with 2 Axes>"
            ],
            "image/png": "[encoded data removed]"
          },
          "metadata": {}
        }
      ]
    }
  ]
}