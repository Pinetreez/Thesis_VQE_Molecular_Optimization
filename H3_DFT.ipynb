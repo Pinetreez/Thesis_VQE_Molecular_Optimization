{
  "nbformat": 4,
  "nbformat_minor": 0,
  "metadata": {
    "colab": {
      "provenance": []
    },
    "kernelspec": {
      "name": "python3",
      "display_name": "Python 3"
    },
    "language_info": {
      "name": "python"
    }
  },
  "cells": [
    {
      "cell_type": "markdown",
      "source": [
        "**$H_3$ Molecule with Density Functional Theory Initialization:**"
      ],
      "metadata": {
        "id": "qdisjLyyb1IP"
      }
    },
    {
      "cell_type": "code",
      "source": [
        "pip install pennylane --quiet"
      ],
      "metadata": {
        "id": "NeA2rXfPWYH4",
        "colab": {
          "base_uri": "https://localhost:8080/"
        },
        "outputId": "a6201285-eb9e-4812-a288-9f2b830051d5"
      },
      "execution_count": null,
      "outputs": [
        {
          "output_type": "stream",
          "name": "stdout",
          "text": [
            "\u001b[2K     \u001b[90m━━━━━━━━━━━━━━━━━━━━━━━━━━━━━━━━━━━━━━━━\u001b[0m \u001b[32m57.1/57.1 kB\u001b[0m \u001b[31m3.0 MB/s\u001b[0m eta \u001b[36m0:00:00\u001b[0m\n",
            "\u001b[2K   \u001b[90m━━━━━━━━━━━━━━━━━━━━━━━━━━━━━━━━━━━━━━━━\u001b[0m \u001b[32m4.8/4.8 MB\u001b[0m \u001b[31m45.6 MB/s\u001b[0m eta \u001b[36m0:00:00\u001b[0m\n",
            "\u001b[2K   \u001b[90m━━━━━━━━━━━━━━━━━━━━━━━━━━━━━━━━━━━━━━━━\u001b[0m \u001b[32m930.8/930.8 kB\u001b[0m \u001b[31m31.7 MB/s\u001b[0m eta \u001b[36m0:00:00\u001b[0m\n",
            "\u001b[2K   \u001b[90m━━━━━━━━━━━━━━━━━━━━━━━━━━━━━━━━━━━━━━━━\u001b[0m \u001b[32m2.6/2.6 MB\u001b[0m \u001b[31m34.3 MB/s\u001b[0m eta \u001b[36m0:00:00\u001b[0m\n",
            "\u001b[2K   \u001b[90m━━━━━━━━━━━━━━━━━━━━━━━━━━━━━━━━━━━━━━━━\u001b[0m \u001b[32m2.1/2.1 MB\u001b[0m \u001b[31m31.1 MB/s\u001b[0m eta \u001b[36m0:00:00\u001b[0m\n",
            "\u001b[2K   \u001b[90m━━━━━━━━━━━━━━━━━━━━━━━━━━━━━━━━━━━━━━━━\u001b[0m \u001b[32m167.9/167.9 kB\u001b[0m \u001b[31m12.8 MB/s\u001b[0m eta \u001b[36m0:00:00\u001b[0m\n",
            "\u001b[2K   \u001b[90m━━━━━━━━━━━━━━━━━━━━━━━━━━━━━━━━━━━━━━━━\u001b[0m \u001b[32m8.6/8.6 MB\u001b[0m \u001b[31m34.9 MB/s\u001b[0m eta \u001b[36m0:00:00\u001b[0m\n",
            "\u001b[?25h"
          ]
        }
      ]
    },
    {
      "cell_type": "code",
      "source": [
        "pip install geometric --quiet"
      ],
      "metadata": {
        "id": "PU9FiHq0p-0W",
        "colab": {
          "base_uri": "https://localhost:8080/"
        },
        "outputId": "55107605-a3e7-4062-fa3d-5eda99484ad3"
      },
      "execution_count": null,
      "outputs": [
        {
          "output_type": "stream",
          "name": "stdout",
          "text": [
            "\u001b[?25l     \u001b[90m━━━━━━━━━━━━━━━━━━━━━━━━━━━━━━━━━━━━━━━━\u001b[0m \u001b[32m0.0/386.0 kB\u001b[0m \u001b[31m?\u001b[0m eta \u001b[36m-:--:--\u001b[0m\r\u001b[2K     \u001b[91m━━━━━━━━━━━━━━━━━━━━━━━━━━━━━━━━━━━━━\u001b[0m\u001b[90m╺\u001b[0m \u001b[32m378.9/386.0 kB\u001b[0m \u001b[31m10.6 MB/s\u001b[0m eta \u001b[36m0:00:01\u001b[0m\r\u001b[2K     \u001b[90m━━━━━━━━━━━━━━━━━━━━━━━━━━━━━━━━━━━━━━━\u001b[0m \u001b[32m386.0/386.0 kB\u001b[0m \u001b[31m5.7 MB/s\u001b[0m eta \u001b[36m0:00:00\u001b[0m\n",
            "\u001b[?25h  Preparing metadata (setup.py) ... \u001b[?25l\u001b[?25hdone\n",
            "  Building wheel for geometric (setup.py) ... \u001b[?25l\u001b[?25hdone\n"
          ]
        }
      ]
    },
    {
      "cell_type": "code",
      "source": [
        "pip install --upgrade pyscf --quiet"
      ],
      "metadata": {
        "id": "N_21rUT8f1FL",
        "colab": {
          "base_uri": "https://localhost:8080/"
        },
        "outputId": "e0f8e419-fe81-4d99-978d-8b1dd685a9e1"
      },
      "execution_count": null,
      "outputs": [
        {
          "output_type": "stream",
          "name": "stdout",
          "text": [
            "\u001b[2K   \u001b[90m━━━━━━━━━━━━━━━━━━━━━━━━━━━━━━━━━━━━━━━━\u001b[0m \u001b[32m51.2/51.2 MB\u001b[0m \u001b[31m16.1 MB/s\u001b[0m eta \u001b[36m0:00:00\u001b[0m\n",
            "\u001b[?25h"
          ]
        }
      ]
    },
    {
      "cell_type": "markdown",
      "source": [
        "# Initial Geometry Density Functional Theory Calculations"
      ],
      "metadata": {
        "id": "bYppNz_YgH6l"
      }
    },
    {
      "cell_type": "markdown",
      "source": [
        "I found the initial coordinates considering the molecular geometry is an equilateral triangle (every angle is 60 degrees) with side length = $0.88 Å$."
      ],
      "metadata": {
        "id": "M_TJNSTHoOF-"
      }
    },
    {
      "cell_type": "markdown",
      "source": [
        "Then I use Density Functional Theory instead of Hartree Fock because it considers electron correlations unlike Hartree Fock."
      ],
      "metadata": {
        "id": "GQIzkMTb9Zco"
      }
    },
    {
      "cell_type": "markdown",
      "source": [
        "Specifically, I used Restricted Kohn-Sham (RKS) since RKS is used for closed-shell systems."
      ],
      "metadata": {
        "id": "AcphSJTw91ki"
      }
    },
    {
      "cell_type": "markdown",
      "source": [
        "$H_3+$ has 2 electrons (even number of electrons then no unpaired electrons, singlet state, spin = 0)."
      ],
      "metadata": {
        "id": "TcI7Lkzv-9ZD"
      }
    },
    {
      "cell_type": "code",
      "source": [
        "from pyscf import gto, scf, dft\n",
        "from pyscf.geomopt import geometric_solver  # Internal optimizer\n",
        "from pyscf.geomopt.geometric_solver import optimize\n",
        "\n",
        "\n",
        "# Defining initial geometry\n",
        "# Equilateral triangle geometry for H3+ (side length = 0.88 Å) (in Å)\n",
        "mol = gto.M(\n",
        "    atom='''\n",
        "    H  0.000   0.000   0.0\n",
        "    H  0.000   0.880   0.0\n",
        "    H  0.440   0.762   0.0  # x=0.88*cos(60°), y=0.88*sin(60°)\n",
        "    ''',\n",
        "    basis='sto-3g',\n",
        "    charge=1,  # H3+ has +1 charge\n",
        "    unit='angstrom',\n",
        "    spin=0 )  # for closed-shell H3+\n",
        "\n",
        "# Use RKS (DFT) with PBE functional\n",
        "mf = dft.RKS(mol)\n",
        "mf.xc = 'PBE'\n",
        "mf.kernel()\n",
        "print(\"Initial DFT (PBE) energy:\", mf.e_tot)\n",
        "\n",
        "# Optimize geometry\n",
        "mol_optimized = geometric_solver.optimize(mf)\n",
        "print(\"Optimized coordinates (Bohr):\", mol_optimized.atom_coords())\n",
        "\n",
        "# Re-run DFT on optimized geometry\n",
        "mf_optimized = dft.RKS(mol_optimized)\n",
        "mf_optimized.xc = 'PBE'\n",
        "mf_optimized.kernel()\n",
        "print(\"Optimized DFT energy:\", mf_optimized.e_tot)"
      ],
      "metadata": {
        "colab": {
          "base_uri": "https://localhost:8080/"
        },
        "id": "KUABrOcigs-g",
        "outputId": "b68eb3a3-3f3b-47a9-b985-e7e4dde14e2f"
      },
      "execution_count": null,
      "outputs": [
        {
          "output_type": "stream",
          "name": "stdout",
          "text": [
            "converged SCF energy = -1.05082471630247\n"
          ]
        },
        {
          "output_type": "stream",
          "name": "stderr",
          "text": [
            "geometric-optimize called with the following command line:\n",
            "/usr/local/lib/python3.11/dist-packages/colab_kernel_launcher.py -f /root/.local/share/jupyter/runtime/kernel-81de2946-780b-4e81-8d09-4044ee4f9887.json\n",
            "\n",
            "                                        \u001b[91m())))))))))))))))/\u001b[0m                     \n",
            "                                    \u001b[91m())))))))))))))))))))))))),\u001b[0m                \n",
            "                                \u001b[91m*)))))))))))))))))))))))))))))))))\u001b[0m             \n",
            "                        \u001b[94m#,\u001b[0m    \u001b[91m()))))))))/\u001b[0m                \u001b[91m.)))))))))),\u001b[0m          \n",
            "                      \u001b[94m#%%%%,\u001b[0m  \u001b[91m())))))\u001b[0m                        \u001b[91m.))))))))*\u001b[0m        \n",
            "                      \u001b[94m*%%%%%%,\u001b[0m  \u001b[91m))\u001b[0m              \u001b[93m..\u001b[0m              \u001b[91m,))))))).\u001b[0m      \n",
            "                        \u001b[94m*%%%%%%,\u001b[0m         \u001b[93m***************/.\u001b[0m        \u001b[91m.)))))))\u001b[0m     \n",
            "                \u001b[94m#%%/\u001b[0m      \u001b[94m(%%%%%%,\u001b[0m    \u001b[93m/*********************.\u001b[0m       \u001b[91m)))))))\u001b[0m    \n",
            "              \u001b[94m.%%%%%%#\u001b[0m      \u001b[94m*%%%%%%,\u001b[0m  \u001b[93m*******/,\u001b[0m     \u001b[93m**********,\u001b[0m      \u001b[91m.))))))\u001b[0m   \n",
            "                \u001b[94m.%%%%%%/\u001b[0m      \u001b[94m*%%%%%%,\u001b[0m  \u001b[93m**\u001b[0m              \u001b[93m********\u001b[0m      \u001b[91m.))))))\u001b[0m  \n",
            "          \u001b[94m##\u001b[0m      \u001b[94m.%%%%%%/\u001b[0m      \u001b[94m(%%%%%%,\u001b[0m                  \u001b[93m,******\u001b[0m      \u001b[91m/)))))\u001b[0m  \n",
            "        \u001b[94m%%%%%%\u001b[0m      \u001b[94m.%%%%%%#\u001b[0m      \u001b[94m*%%%%%%,\u001b[0m    \u001b[92m,/////.\u001b[0m       \u001b[93m******\u001b[0m      \u001b[91m))))))\u001b[0m \n",
            "      \u001b[94m#%\u001b[0m      \u001b[94m%%\u001b[0m      \u001b[94m.%%%%%%/\u001b[0m      \u001b[94m*%%%%%%,\u001b[0m  \u001b[92m////////,\u001b[0m      \u001b[93m*****/\u001b[0m     \u001b[91m,)))))\u001b[0m \n",
            "    \u001b[94m#%%\u001b[0m  \u001b[94m%%%\u001b[0m  \u001b[94m%%%#\u001b[0m      \u001b[94m.%%%%%%/\u001b[0m      \u001b[94m(%%%%%%,\u001b[0m  \u001b[92m///////.\u001b[0m     \u001b[93m/*****\u001b[0m      \u001b[91m))))).\u001b[0m\n",
            "  \u001b[94m#%%%%.\u001b[0m      \u001b[94m%%%%%#\u001b[0m      \u001b[94m/%%%%%%*\u001b[0m      \u001b[94m#%%%%%%\u001b[0m   \u001b[92m/////)\u001b[0m     \u001b[93m******\u001b[0m      \u001b[91m))))),\u001b[0m\n",
            "    \u001b[94m#%%%%##%\u001b[0m  \u001b[94m%%%#\u001b[0m      \u001b[94m.%%%%%%/\u001b[0m      \u001b[94m(%%%%%%,\u001b[0m  \u001b[92m///////.\u001b[0m     \u001b[93m/*****\u001b[0m      \u001b[91m))))).\u001b[0m\n",
            "      \u001b[94m##\u001b[0m     \u001b[94m%%%\u001b[0m      \u001b[94m.%%%%%%/\u001b[0m      \u001b[94m*%%%%%%,\u001b[0m  \u001b[92m////////.\u001b[0m      \u001b[93m*****/\u001b[0m     \u001b[91m,)))))\u001b[0m \n",
            "        \u001b[94m#%%%%#\u001b[0m      \u001b[94m/%%%%%%/\u001b[0m      \u001b[94m(%%%%%%\u001b[0m      \u001b[92m/)/)//\u001b[0m       \u001b[93m******\u001b[0m      \u001b[91m))))))\u001b[0m \n",
            "          \u001b[94m##\u001b[0m      \u001b[94m.%%%%%%/\u001b[0m      \u001b[94m(%%%%%%,\u001b[0m                  \u001b[93m*******\u001b[0m      \u001b[91m))))))\u001b[0m  \n",
            "                \u001b[94m.%%%%%%/\u001b[0m      \u001b[94m*%%%%%%,\u001b[0m  \u001b[93m**.\u001b[0m             \u001b[93m/*******\u001b[0m      \u001b[91m.))))))\u001b[0m  \n",
            "              \u001b[94m*%%%%%%/\u001b[0m      \u001b[94m(%%%%%%\u001b[0m   \u001b[93m********/*..,*/*********\u001b[0m       \u001b[91m*))))))\u001b[0m   \n",
            "                \u001b[94m#%%/\u001b[0m      \u001b[94m(%%%%%%,\u001b[0m    \u001b[93m*********************/\u001b[0m        \u001b[91m)))))))\u001b[0m    \n",
            "                        \u001b[94m*%%%%%%,\u001b[0m         \u001b[93m,**************/\u001b[0m         \u001b[91m,))))))/\u001b[0m     \n",
            "                      \u001b[94m(%%%%%%\u001b[0m   \u001b[91m()\u001b[0m                              \u001b[91m))))))))\u001b[0m       \n",
            "                      \u001b[94m#%%%%,\u001b[0m  \u001b[91m())))))\u001b[0m                        \u001b[91m,)))))))),\u001b[0m        \n",
            "                        \u001b[94m#,\u001b[0m    \u001b[91m())))))))))\u001b[0m                \u001b[91m,)))))))))).\u001b[0m          \n",
            "                                 \u001b[91m()))))))))))))))))))))))))))))))/\u001b[0m             \n",
            "                                    \u001b[91m())))))))))))))))))))))))).\u001b[0m                \n",
            "                                         \u001b[91m())))))))))))))),\u001b[0m                     \n",
            "\n",
            "-=# \u001b[1;94m geomeTRIC started. Version: 1.1 \u001b[0m #=-\n",
            "Current date and time: 2025-08-06 09:04:18\n",
            "#========================================================#\n",
            "#| \u001b[92m    Arguments passed to driver run_optimizer():     \u001b[0m |#\n",
            "#========================================================#\n",
            "customengine              <pyscf.geomopt.geometric_solver.PySCFEngine object at 0x7da427373e10> \n",
            "input                     /tmp/tmpt0y7fjdk/babca2d8-9cbd-435c-81fc-9b86e2a57f5f \n",
            "logIni                    /usr/local/lib/python3.11/dist-packages/pyscf/geomopt/log.ini \n",
            "maxiter                   100 \n",
            "----------------------------------------------------------\n",
            "Custom engine selected.\n",
            "Bonds will be generated from interatomic distances less than 1.20 times sum of covalent radii\n",
            "9 internal coordinates being used (instead of 9 Cartesians)\n",
            "Internal coordinate system (atoms numbered from 1):\n",
            "Distance 1-2\n",
            "Distance 1-3\n",
            "Distance 2-3\n",
            "Angle 2-1-3\n",
            "Angle 1-2-3\n",
            "Angle 1-3-2\n",
            "Translation-X 1-3\n",
            "Translation-Y 1-3\n",
            "Translation-Z 1-3\n",
            "Rotation-A 1-3\n",
            "Rotation-B 1-3\n",
            "Rotation-C 1-3\n",
            "<class 'geometric.internal.Distance'> : 3\n",
            "<class 'geometric.internal.Angle'> : 3\n",
            "<class 'geometric.internal.TranslationX'> : 1\n",
            "<class 'geometric.internal.TranslationY'> : 1\n",
            "<class 'geometric.internal.TranslationZ'> : 1\n",
            "<class 'geometric.internal.RotationA'> : 1\n",
            "<class 'geometric.internal.RotationB'> : 1\n",
            "<class 'geometric.internal.RotationC'> : 1\n",
            "> ===== Optimization Info: ====\n",
            "> Job type: Energy minimization\n",
            "> Maximum number of optimization cycles: 100\n",
            "> Initial / maximum trust radius (Angstrom): 0.100 / 0.300\n",
            "> Convergence Criteria:\n",
            "> Will converge when all 5 criteria are reached:\n",
            ">  |Delta-E| < 1.00e-06\n",
            ">  RMS-Grad  < 3.00e-04\n",
            ">  Max-Grad  < 4.50e-04\n",
            ">  RMS-Disp  < 1.20e-03\n"
          ]
        },
        {
          "output_type": "stream",
          "name": "stdout",
          "text": [
            "Initial DFT (PBE) energy: -1.0508247163024684\n"
          ]
        },
        {
          "output_type": "stream",
          "name": "stderr",
          "text": [
            ">  Max-Disp  < 1.80e-03\n",
            "> === End Optimization Info ===\n"
          ]
        },
        {
          "output_type": "stream",
          "name": "stdout",
          "text": [
            "\n",
            "Geometry optimization cycle 1\n",
            "Cartesian coordinates (Angstrom)\n",
            " Atom        New coordinates             dX        dY        dZ\n",
            "   H   0.000000   0.000000   0.000000    0.000000  0.000000  0.000000\n",
            "   H   0.000000   0.880000   0.000000    0.000000  0.000000  0.000000\n",
            "   H   0.440000   0.762000   0.000000    0.000000  0.000000  0.000000\n",
            "converged SCF energy = -1.0508247161898\n",
            "--------------- RKS_Scanner gradients ---------------\n",
            "         x                y                z\n",
            "0 H     0.0285678301     0.1065728035     0.0000000000\n",
            "1 H     0.7977144269    -0.2710310283     0.0000000000\n",
            "2 H    -0.8262822838     0.1644582242     0.0000000000\n",
            "----------------------------------------------\n",
            "cycle 1: E = -1.05082471619  dE = -1.05082  norm(grad) = 1.19657\n"
          ]
        },
        {
          "output_type": "stream",
          "name": "stderr",
          "text": [
            "Step    0 : Gradient = 6.908e-01/8.425e-01 (rms/max) Energy = -1.0508247162\n",
            "Hessian Eigenvalues: 5.00000e-02 5.00000e-02 5.00000e-02 ... 1.00000e-01 1.00000e-01 8.70211e-01\n"
          ]
        },
        {
          "output_type": "stream",
          "name": "stdout",
          "text": [
            "\n",
            "Geometry optimization cycle 2\n",
            "Cartesian coordinates (Angstrom)\n",
            " Atom        New coordinates             dX        dY        dZ\n",
            "   H  -0.009484  -0.035389  -0.000000   -0.009484 -0.035389 -0.000000\n",
            "   H  -0.109121   0.928230  -0.000000   -0.109121  0.048230 -0.000000\n",
            "   H   0.558605   0.749160  -0.000000    0.118605 -0.012840 -0.000000\n",
            "converged SCF energy = -1.25126573448255\n",
            "--------------- RKS_Scanner gradients ---------------\n",
            "         x                y                z\n",
            "0 H     0.0081906374     0.0305198359     0.0000000000\n",
            "1 H     0.1720969586    -0.0624948129     0.0000000000\n",
            "2 H    -0.1802875770     0.0319750026     0.0000000000\n",
            "----------------------------------------------\n",
            "cycle 2: E = -1.25126573448  dE = -0.200441  norm(grad) = 0.260859\n"
          ]
        },
        {
          "output_type": "stream",
          "name": "stderr",
          "text": [
            "Step    1 : Displace = \u001b[0m9.968e-02\u001b[0m/\u001b[0m1.193e-01\u001b[0m (rms/max) Trust = 1.000e-01 (=) Grad = \u001b[0m1.506e-01\u001b[0m/\u001b[0m1.831e-01\u001b[0m (rms/max) E (change) = -1.2512657345 (\u001b[0m-2.004e-01\u001b[0m) Quality = \u001b[0m0.799\u001b[0m\n",
            "Hessian Eigenvalues: 5.00000e-02 5.00000e-02 5.00000e-02 ... 1.00000e-01 1.03104e-01 9.64288e-01\n"
          ]
        },
        {
          "output_type": "stream",
          "name": "stdout",
          "text": [
            "\n",
            "Geometry optimization cycle 3\n",
            "Cartesian coordinates (Angstrom)\n",
            " Atom        New coordinates             dX        dY        dZ\n",
            "   H  -0.021522  -0.080245   0.000000   -0.012039 -0.044856  0.000000\n",
            "   H  -0.135661   0.959354   0.000000   -0.026541  0.031125  0.000000\n",
            "   H   0.597183   0.762890   0.000000    0.038578  0.013730  0.000000\n",
            "converged SCF energy = -1.2707629197491\n",
            "--------------- RKS_Scanner gradients ---------------\n",
            "         x                y                z\n",
            "0 H    -0.0012113514    -0.0045324211     0.0000000000\n",
            "1 H     0.1002770582    -0.0244498710     0.0000000000\n",
            "2 H    -0.0990657073     0.0289823381    -0.0000000000\n",
            "----------------------------------------------\n",
            "cycle 3: E = -1.27076291975  dE = -0.0194972  norm(grad) = 0.146045\n"
          ]
        },
        {
          "output_type": "stream",
          "name": "stderr",
          "text": [
            "Step    2 : Displace = \u001b[0m4.284e-02\u001b[0m/\u001b[0m4.644e-02\u001b[0m (rms/max) Trust = 1.414e-01 (\u001b[92m+\u001b[0m) Grad = \u001b[0m8.432e-02\u001b[0m/\u001b[0m1.032e-01\u001b[0m (rms/max) E (change) = -1.2707629197 (\u001b[0m-1.950e-02\u001b[0m) Quality = \u001b[0m1.428\u001b[0m\n",
            "Hessian Eigenvalues: 5.00000e-02 5.00000e-02 5.00000e-02 ... 1.00000e-01 1.33488e-01 4.01541e-01\n"
          ]
        },
        {
          "output_type": "stream",
          "name": "stdout",
          "text": [
            "\n",
            "Geometry optimization cycle 4\n",
            "Cartesian coordinates (Angstrom)\n",
            " Atom        New coordinates             dX        dY        dZ\n",
            "   H  -0.017522  -0.065214  -0.000000    0.004000  0.015031 -0.000000\n",
            "   H  -0.185292   0.964560   0.000000   -0.049630  0.005206  0.000000\n",
            "   H   0.642812   0.742650   0.000000    0.045630 -0.020240  0.000000\n",
            "converged SCF energy = -1.28400894763372\n",
            "--------------- RKS_Scanner gradients ---------------\n",
            "         x                y                z\n",
            "0 H    -0.0024890149    -0.0092744068    -0.0000000000\n",
            "1 H     0.0409991016    -0.0060193974     0.0000000000\n",
            "2 H    -0.0385100611     0.0152938064     0.0000000000\n",
            "----------------------------------------------\n",
            "cycle 4: E = -1.28400894763  dE = -0.013246  norm(grad) = 0.0593826\n"
          ]
        },
        {
          "output_type": "stream",
          "name": "stderr",
          "text": [
            "Step    3 : Displace = \u001b[0m4.173e-02\u001b[0m/\u001b[0m4.992e-02\u001b[0m (rms/max) Trust = 2.000e-01 (\u001b[92m+\u001b[0m) Grad = \u001b[0m3.428e-02\u001b[0m/\u001b[0m4.144e-02\u001b[0m (rms/max) E (change) = -1.2840089476 (\u001b[0m-1.325e-02\u001b[0m) Quality = \u001b[0m1.358\u001b[0m\n",
            "Hessian Eigenvalues: 5.00000e-02 5.00000e-02 5.00000e-02 ... 9.99999e-02 1.20883e-01 2.59643e-01\n"
          ]
        },
        {
          "output_type": "stream",
          "name": "stdout",
          "text": [
            "\n",
            "Geometry optimization cycle 5\n",
            "Cartesian coordinates (Angstrom)\n",
            " Atom        New coordinates             dX        dY        dZ\n",
            "   H  -0.010503  -0.038962  -0.000000    0.007019  0.026252 -0.000000\n",
            "   H  -0.222184   0.960359   0.000000   -0.036892 -0.004201  0.000000\n",
            "   H   0.672683   0.720597   0.000000    0.029871 -0.022053 -0.000000\n",
            "converged SCF energy = -1.28824948415098\n",
            "--------------- RKS_Scanner gradients ---------------\n",
            "         x                y                z\n",
            "0 H    -0.0013899529    -0.0051536760    -0.0000000000\n",
            "1 H     0.0167398784    -0.0017304000     0.0000000000\n",
            "2 H    -0.0153499030     0.0068840307     0.0000000000\n",
            "----------------------------------------------\n",
            "cycle 5: E = -1.28824948415  dE = -0.00424054  norm(grad) = 0.0243869\n"
          ]
        },
        {
          "output_type": "stream",
          "name": "stderr",
          "text": [
            "Step    4 : Displace = \u001b[0m3.414e-02\u001b[0m/\u001b[0m3.713e-02\u001b[0m (rms/max) Trust = 2.828e-01 (\u001b[92m+\u001b[0m) Grad = \u001b[0m1.408e-02\u001b[0m/\u001b[0m1.683e-02\u001b[0m (rms/max) E (change) = -1.2882494842 (\u001b[0m-4.241e-03\u001b[0m) Quality = \u001b[0m1.374\u001b[0m\n",
            "Hessian Eigenvalues: 5.00000e-02 5.00000e-02 5.00000e-02 ... 8.78276e-02 1.00000e-01 2.09138e-01\n"
          ]
        },
        {
          "output_type": "stream",
          "name": "stdout",
          "text": [
            "\n",
            "Geometry optimization cycle 6\n",
            "Cartesian coordinates (Angstrom)\n",
            " Atom        New coordinates             dX        dY        dZ\n",
            "   H  -0.004884  -0.018006  -0.000000    0.005619  0.020956  0.000000\n",
            "   H  -0.247758   0.956000   0.000000   -0.025574 -0.004359  0.000000\n",
            "   H   0.692636   0.704002   0.000000    0.019953 -0.016596  0.000000\n",
            "converged SCF energy = -1.28939492502539\n",
            "--------------- RKS_Scanner gradients ---------------\n",
            "         x                y                z\n",
            "0 H    -0.0001671787    -0.0005973159     0.0000000000\n",
            "1 H     0.0054424138    -0.0011437198     0.0000000000\n",
            "2 H    -0.0052752567     0.0017410518     0.0000000000\n",
            "----------------------------------------------\n",
            "cycle 6: E = -1.28939492503  dE = -0.00114544  norm(grad) = 0.00788494\n"
          ]
        },
        {
          "output_type": "stream",
          "name": "stderr",
          "text": [
            "Step    5 : Displace = \u001b[0m2.461e-02\u001b[0m/\u001b[0m2.595e-02\u001b[0m (rms/max) Trust = 3.000e-01 (\u001b[92m+\u001b[0m) Grad = \u001b[0m4.552e-03\u001b[0m/\u001b[0m5.561e-03\u001b[0m (rms/max) E (change) = -1.2893949250 (\u001b[0m-1.145e-03\u001b[0m) Quality = \u001b[0m1.258\u001b[0m\n",
            "Hessian Eigenvalues: 5.00000e-02 5.00000e-02 5.00000e-02 ... 6.91290e-02 1.00000e-01 1.88826e-01\n"
          ]
        },
        {
          "output_type": "stream",
          "name": "stdout",
          "text": [
            "\n",
            "Geometry optimization cycle 7\n",
            "Cartesian coordinates (Angstrom)\n",
            " Atom        New coordinates             dX        dY        dZ\n",
            "   H  -0.003032  -0.011136  -0.000000    0.001852  0.006871 -0.000000\n",
            "   H  -0.258441   0.955205   0.000000   -0.010683 -0.000796  0.000000\n",
            "   H   0.701467   0.697926   0.000000    0.008831 -0.006075 -0.000000\n",
            "converged SCF energy = -1.28952821254851\n",
            "--------------- RKS_Scanner gradients ---------------\n",
            "         x                y                z\n",
            "0 H     0.0000687206     0.0002636925    -0.0000000000\n",
            "1 H     0.0012523378    -0.0004784095    -0.0000000000\n",
            "2 H    -0.0013210826     0.0002147404    -0.0000000000\n",
            "----------------------------------------------\n",
            "cycle 7: E = -1.28952821255  dE = -0.000133288  norm(grad) = 0.00191386\n"
          ]
        },
        {
          "output_type": "stream",
          "name": "stderr",
          "text": [
            "Step    6 : Displace = \u001b[0m9.666e-03\u001b[0m/\u001b[0m1.072e-02\u001b[0m (rms/max) Trust = 3.000e-01 (=) Grad = \u001b[0m1.105e-03\u001b[0m/\u001b[0m1.341e-03\u001b[0m (rms/max) E (change) = -1.2895282125 (\u001b[0m-1.333e-04\u001b[0m) Quality = \u001b[0m1.184\u001b[0m\n",
            "Hessian Eigenvalues: 5.00000e-02 5.00000e-02 5.00000e-02 ... 6.03298e-02 1.00000e-01 1.72923e-01\n"
          ]
        },
        {
          "output_type": "stream",
          "name": "stdout",
          "text": [
            "\n",
            "Geometry optimization cycle 8\n",
            "Cartesian coordinates (Angstrom)\n",
            " Atom        New coordinates             dX        dY        dZ\n",
            "   H  -0.002747  -0.010087  -0.000000    0.000285  0.001049  0.000000\n",
            "   H  -0.261141   0.955374   0.000000   -0.002701  0.000169  0.000000\n",
            "   H   0.703883   0.696708   0.000000    0.002416 -0.001219  0.000000\n",
            "converged SCF energy = -1.28953501775324\n",
            "--------------- RKS_Scanner gradients ---------------\n",
            "         x                y                z\n",
            "0 H     0.0000225049     0.0000844735    -0.0000000000\n",
            "1 H     0.0001256674    -0.0000790395     0.0000000000\n",
            "2 H    -0.0001481952    -0.0000054113     0.0000000000\n",
            "----------------------------------------------\n",
            "cycle 8: E = -1.28953501775  dE = -6.8052e-06  norm(grad) = 0.000227317\n"
          ]
        },
        {
          "output_type": "stream",
          "name": "stderr",
          "text": [
            "Step    7 : Displace = \u001b[0m2.297e-03\u001b[0m/\u001b[0m2.708e-03\u001b[0m (rms/max) Trust = 3.000e-01 (=) Grad = \u001b[92m1.312e-04\u001b[0m/\u001b[92m1.485e-04\u001b[0m (rms/max) E (change) = -1.2895350178 (\u001b[0m-6.805e-06\u001b[0m) Quality = \u001b[0m1.087\u001b[0m\n",
            "Hessian Eigenvalues: 5.00000e-02 5.00000e-02 5.00000e-02 ... 5.86915e-02 1.00000e-01 1.61420e-01\n"
          ]
        },
        {
          "output_type": "stream",
          "name": "stdout",
          "text": [
            "\n",
            "Geometry optimization cycle 9\n",
            "Cartesian coordinates (Angstrom)\n",
            " Atom        New coordinates             dX        dY        dZ\n",
            "   H  -0.002747  -0.010092  -0.000000   -0.000001 -0.000004  0.000000\n",
            "   H  -0.261387   0.955442   0.000000   -0.000245  0.000068  0.000000\n",
            "   H   0.704130   0.696643   0.000000    0.000247 -0.000065 -0.000000\n",
            "converged SCF energy = -1.28953508934458\n",
            "--------------- RKS_Scanner gradients ---------------\n",
            "         x                y                z\n",
            "0 H     0.0000030743     0.0000114443    -0.0000000000\n",
            "1 H     0.0000037745    -0.0000071234     0.0000000000\n",
            "2 H    -0.0000068715    -0.0000042981     0.0000000000\n",
            "----------------------------------------------\n",
            "cycle 9: E = -1.28953508934  dE = -7.15913e-08  norm(grad) = 1.64653e-05\n"
          ]
        },
        {
          "output_type": "stream",
          "name": "stderr",
          "text": [
            "Step    8 : Displace = \u001b[92m2.082e-04\u001b[0m/\u001b[92m2.552e-04\u001b[0m (rms/max) Trust = 3.000e-01 (=) Grad = \u001b[92m9.506e-06\u001b[0m/\u001b[92m1.185e-05\u001b[0m (rms/max) E (change) = -1.2895350893 (\u001b[92m-7.159e-08\u001b[0m) Quality = \u001b[0m1.040\u001b[0m\n",
            "Hessian Eigenvalues: 5.00000e-02 5.00000e-02 5.00000e-02 ... 5.86915e-02 1.00000e-01 1.61420e-01\n",
            "Converged! =D\n",
            "\n",
            "    #==========================================================================#\n",
            "    #| If this code has benefited your research, please support us by citing: |#\n",
            "    #|                                                                        |#\n",
            "    #| Wang, L.-P.; Song, C.C. (2016) \"Geometry optimization made simple with |#\n",
            "    #| translation and rotation coordinates\", J. Chem, Phys. 144, 214108.     |#\n",
            "    #| http://dx.doi.org/10.1063/1.4952956                                    |#\n",
            "    #==========================================================================#\n",
            "    Time elapsed since start of run_optimizer: 8.923 seconds\n"
          ]
        },
        {
          "output_type": "stream",
          "name": "stdout",
          "text": [
            "Optimized coordinates (Bohr): [[-5.19115746e-03 -1.90702567e-02 -3.78256033e-15]\n",
            " [-4.93949236e-01  1.80552375e+00  4.29618735e-15]\n",
            " [ 1.33061340e+00  1.31646428e+00  3.99631411e-15]]\n",
            "converged SCF energy = -1.28953508944898\n",
            "Optimized DFT energy: -1.2895350894489763\n"
          ]
        }
      ]
    },
    {
      "cell_type": "markdown",
      "source": [
        "`mol.atom_coords()` always returns coordinates in atomic units (Bohr)."
      ],
      "metadata": {
        "id": "ehejImpa2TE1"
      }
    },
    {
      "cell_type": "code",
      "source": [
        "print(f\"Optimized coordinates (Bohr):\\n {mol_optimized.atom_coords()}\")\n",
        "print(\"Optimized DFT energy:\", mf_optimized.e_tot)"
      ],
      "metadata": {
        "colab": {
          "base_uri": "https://localhost:8080/"
        },
        "id": "18-19MqarSvL",
        "outputId": "1842ff97-b99f-4e49-9ddd-752e8c2f01df"
      },
      "execution_count": null,
      "outputs": [
        {
          "output_type": "stream",
          "name": "stdout",
          "text": [
            "Optimized coordinates (Bohr):\n",
            " [[-5.19115746e-03 -1.90702567e-02 -3.78256033e-15]\n",
            " [-4.93949236e-01  1.80552375e+00  4.29618735e-15]\n",
            " [ 1.33061340e+00  1.31646428e+00  3.99631411e-15]]\n",
            "Optimized DFT energy: -1.2895350894489763\n"
          ]
        }
      ]
    },
    {
      "cell_type": "markdown",
      "source": [
        "# Step 2"
      ],
      "metadata": {
        "id": "fuYMcUvSjkV6"
      }
    },
    {
      "cell_type": "code",
      "execution_count": null,
      "metadata": {
        "id": "jlNml8ZSWJ5E"
      },
      "outputs": [],
      "source": [
        "import jax\n",
        "from jax import numpy as jnp\n",
        "\n",
        "jax.config.update(\"jax_enable_x64\", True)\n",
        "\n",
        "symbols = [\"H\", \"H\", \"H\"]\n",
        "\n",
        "x = jnp.array([[-5.19115746e-03, -1.90702567e-02, -3.78256033e-15],\n",
        "               [-4.93949236e-01,  1.80552375e+00,  4.29618735e-15],\n",
        "               [ 1.33061340e+00,  1.31646428e+00,  3.99631411e-15]]) #Bohr"
      ]
    },
    {
      "cell_type": "code",
      "source": [
        "import pennylane as qml\n",
        "\n",
        "\n",
        "def H(x):\n",
        "    molecule = qml.qchem.Molecule(symbols, x, charge=1)\n",
        "    return qml.qchem.molecular_hamiltonian(molecule)[0]"
      ],
      "metadata": {
        "id": "ac1YbGB1WWFU"
      },
      "execution_count": null,
      "outputs": []
    },
    {
      "cell_type": "code",
      "source": [
        "hf = qml.qchem.hf_state(electrons=2, orbitals=6)\n",
        "print(hf)"
      ],
      "metadata": {
        "colab": {
          "base_uri": "https://localhost:8080/"
        },
        "id": "tNnDxueAWhVp",
        "outputId": "b295cd06-bcb3-4630-c723-6ba8a7635199"
      },
      "execution_count": null,
      "outputs": [
        {
          "output_type": "stream",
          "name": "stdout",
          "text": [
            "[1 1 0 0 0 0]\n"
          ]
        }
      ]
    },
    {
      "cell_type": "code",
      "source": [
        "num_wires = 6\n",
        "dev = qml.device(\"default.qubit\", wires=num_wires)\n",
        "\n",
        "\n",
        "@qml.qnode(dev, interface=\"jax\")\n",
        "def circuit(params, obs, wires):\n",
        "    qml.BasisState(hf, wires=wires)\n",
        "    qml.DoubleExcitation(params[0], wires=[0, 1, 2, 3])\n",
        "    qml.DoubleExcitation(params[1], wires=[0, 1, 4, 5])\n",
        "\n",
        "    return qml.expval(obs)"
      ],
      "metadata": {
        "id": "HvUD8T9lWkJ3"
      },
      "execution_count": null,
      "outputs": []
    },
    {
      "cell_type": "code",
      "source": [
        "def cost(params, x):\n",
        "    hamiltonian = H(x)\n",
        "    return circuit(params, obs=hamiltonian, wires=range(num_wires))"
      ],
      "metadata": {
        "id": "iWV4dGH6WqkA"
      },
      "execution_count": null,
      "outputs": []
    },
    {
      "cell_type": "code",
      "source": [
        "def finite_diff(f, x, delta=0.01):\n",
        "    \"\"\"Compute the central-difference finite difference of a function\"\"\"\n",
        "    gradient = []\n",
        "    x = jnp.ravel(x)\n",
        "\n",
        "    for i in range(len(x)):\n",
        "        shift = jnp.zeros_like(x)\n",
        "        shift = shift.at[i].set(0.5*delta)\n",
        "        res = (f(x + shift) - f(x - shift)) * delta**-1\n",
        "        gradient.append(res)\n",
        "\n",
        "    return gradient\n",
        "\n",
        "\n",
        "def grad_x(params, x):\n",
        "    grad_h = finite_diff(H, x)\n",
        "    grad = [circuit(params, obs=obs, wires=range(num_wires)) for obs in grad_h]\n",
        "    return jnp.array(grad).reshape(x.shape)"
      ],
      "metadata": {
        "id": "bZvJ3UlAWs_h"
      },
      "execution_count": null,
      "outputs": []
    },
    {
      "cell_type": "code",
      "source": [
        "theta = jnp.array([0.0, 0.0])"
      ],
      "metadata": {
        "id": "AV9Wjq4kWwV1"
      },
      "execution_count": null,
      "outputs": []
    },
    {
      "cell_type": "code",
      "source": [
        "# store the values of the cost function\n",
        "energies = []\n",
        "\n",
        "# store the values of the bond length\n",
        "bond_length = []\n",
        "\n",
        "# Factor to convert from Bohrs to Angstroms\n",
        "bohr_angs = 0.529177210903\n",
        "\n",
        "for n in range(36):\n",
        "    # gradient for params\n",
        "    g_param = jax.grad(cost, argnums=[0])(theta, x)[0]\n",
        "    theta = theta - 0.8 * g_param\n",
        "\n",
        "    # gradient for coordinates\n",
        "    value, _ = jax.value_and_grad(cost, argnums=1)(theta, x)\n",
        "    grad = grad_x(theta, x)\n",
        "    x = x - 0.8 * grad\n",
        "    energies.append(value)\n",
        "    bond_length.append(jnp.linalg.norm(x[0] - x[1]) * bohr_angs)\n",
        "\n",
        "    if n % 4 == 0:\n",
        "        print(f\"Step = {n},  E = {energies[-1]:.8f} Ha,  bond length = {bond_length[-1]:.5f} A\")\n",
        "\n",
        "    # Check maximum component of the nuclear gradient\n",
        "    if jnp.max(grad_x(theta, x)) <= 1e-04:\n",
        "        break\n",
        "\n",
        "print(\"\\n\" f\"Final value of the ground-state energy = {energies[-1]:.8f} Ha\")\n",
        "print(\"\\n\" \"Ground-state equilibrium geometry\")\n",
        "print(\"%s %4s %8s %8s\" % (\"symbol\", \"x\", \"y\", \"z\"))\n",
        "for i, atom in enumerate(symbols):\n",
        "    print(f\"  {atom}    {x[0][i]:.4f}   {x[1][i]:.4f}   {x[2][i]:.4f}\")"
      ],
      "metadata": {
        "colab": {
          "base_uri": "https://localhost:8080/"
        },
        "id": "_szPfiAGWyqk",
        "outputId": "d229fd6a-7b26-430e-c2bd-97e7f0ee0f26"
      },
      "execution_count": null,
      "outputs": [
        {
          "output_type": "stream",
          "name": "stdout",
          "text": [
            "Step = 0,  E = -1.26948000 Ha,  bond length = 0.98997 A\n",
            "Step = 4,  E = -1.27443477 Ha,  bond length = 0.98513 A\n",
            "\n",
            "Final value of the ground-state energy = -1.27443477 Ha\n",
            "\n",
            "Ground-state equilibrium geometry\n",
            "symbol    x        y        z\n",
            "  H    -0.0011   -0.4828   1.3154\n",
            "  H    -0.0039   1.7944   1.3124\n",
            "  H    0.0000   -0.0000   -0.0000\n"
          ]
        }
      ]
    },
    {
      "cell_type": "code",
      "source": [
        "import matplotlib.pyplot as plt\n",
        "\n",
        "fig = plt.figure()\n",
        "fig.set_figheight(5)\n",
        "fig.set_figwidth(12)\n",
        "\n",
        "# Add energy plot on column 1\n",
        "E_fci = -1.27443765658\n",
        "E_vqe = jnp.array(energies)\n",
        "ax1 = fig.add_subplot(121)\n",
        "ax1.plot(range(n + 1), E_vqe - E_fci, \"go\", ls=\"dashed\")\n",
        "ax1.plot(range(n + 1), jnp.full(n + 1, 0.001), color=\"red\")\n",
        "ax1.set_xlabel(\"Optimization step\", fontsize=13)\n",
        "ax1.set_ylabel(\"$E_{VQE} - E_{FCI}$ (Hartree)\", fontsize=13)\n",
        "ax1.text(1.2, 0.0013, r\"Chemical accuracy\", fontsize=13)\n",
        "plt.yscale(\"log\")\n",
        "plt.xticks(fontsize=12)\n",
        "plt.yticks(fontsize=12)\n",
        "\n",
        "# Add bond length plot on column 2\n",
        "d_fci = 0.986\n",
        "ax2 = fig.add_subplot(122)\n",
        "ax2.plot(range(n + 1), bond_length, \"go\", ls=\"dashed\")\n",
        "ax2.plot(range(n + 1), jnp.full(n + 1, d_fci), color=\"red\")\n",
        "ax2.set_ylim([0.965, 0.99])\n",
        "ax2.set_xlabel(\"Optimization step\", fontsize=13)\n",
        "ax2.set_ylabel(\"bond length ($\\AA$)\", fontsize=13)\n",
        "ax2.text(1.3, 0.9865, r\"Equilibrium bond length\", fontsize=13)\n",
        "plt.xticks(fontsize=12)\n",
        "plt.yticks(fontsize=12)\n",
        "\n",
        "plt.subplots_adjust(wspace=0.3)\n",
        "plt.show()"
      ],
      "metadata": {
        "colab": {
          "base_uri": "https://localhost:8080/",
          "height": 480
        },
        "id": "XvnLBnuKYdkX",
        "outputId": "20741daf-f7cc-44ff-b970-517cff579a19"
      },
      "execution_count": null,
      "outputs": [
        {
          "output_type": "display_data",
          "data": {
            "text/plain": [
              "<Figure size 1200x500 with 2 Axes>"
            ],
            "image/png": "[encoded data removed]"
          },
          "metadata": {}
        }
      ]
    },
    {
      "cell_type": "markdown",
      "source": [
        "As we can see, using DFT to find initial coordinates results in faster optimization than the HF version, with good results at the first optimization step."
      ],
      "metadata": {
        "id": "-G6no9zH61tV"
      }
    }
  ]
}