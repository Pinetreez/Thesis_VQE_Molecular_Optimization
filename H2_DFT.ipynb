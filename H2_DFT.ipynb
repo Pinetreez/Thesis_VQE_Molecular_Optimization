{
  "nbformat": 4,
  "nbformat_minor": 0,
  "metadata": {
    "colab": {
      "provenance": []
    },
    "kernelspec": {
      "name": "python3",
      "display_name": "Python 3"
    },
    "language_info": {
      "name": "python"
    }
  },
  "cells": [
    {
      "cell_type": "markdown",
      "source": [
        "**$H_2$ Molecule with Density Functional Theory Initialization:**"
      ],
      "metadata": {
        "id": "qdisjLyyb1IP"
      }
    },
    {
      "cell_type": "code",
      "source": [
        "pip install pennylane --quiet"
      ],
      "metadata": {
        "id": "NeA2rXfPWYH4",
        "colab": {
          "base_uri": "https://localhost:8080/"
        },
        "outputId": "5c52b988-6489-4703-ee32-a4661d089f51"
      },
      "execution_count": null,
      "outputs": [
        {
          "output_type": "stream",
          "name": "stdout",
          "text": [
            "\u001b[2K     \u001b[90m━━━━━━━━━━━━━━━━━━━━━━━━━━━━━━━━━━━━━━━━\u001b[0m \u001b[32m57.1/57.1 kB\u001b[0m \u001b[31m2.9 MB/s\u001b[0m eta \u001b[36m0:00:00\u001b[0m\n",
            "\u001b[2K   \u001b[90m━━━━━━━━━━━━━━━━━━━━━━━━━━━━━━━━━━━━━━━━\u001b[0m \u001b[32m4.8/4.8 MB\u001b[0m \u001b[31m17.8 MB/s\u001b[0m eta \u001b[36m0:00:00\u001b[0m\n",
            "\u001b[2K   \u001b[90m━━━━━━━━━━━━━━━━━━━━━━━━━━━━━━━━━━━━━━━━\u001b[0m \u001b[32m930.8/930.8 kB\u001b[0m \u001b[31m25.3 MB/s\u001b[0m eta \u001b[36m0:00:00\u001b[0m\n",
            "\u001b[2K   \u001b[90m━━━━━━━━━━━━━━━━━━━━━━━━━━━━━━━━━━━━━━━━\u001b[0m \u001b[32m2.6/2.6 MB\u001b[0m \u001b[31m25.3 MB/s\u001b[0m eta \u001b[36m0:00:00\u001b[0m\n",
            "\u001b[2K   \u001b[90m━━━━━━━━━━━━━━━━━━━━━━━━━━━━━━━━━━━━━━━━\u001b[0m \u001b[32m2.1/2.1 MB\u001b[0m \u001b[31m19.6 MB/s\u001b[0m eta \u001b[36m0:00:00\u001b[0m\n",
            "\u001b[2K   \u001b[90m━━━━━━━━━━━━━━━━━━━━━━━━━━━━━━━━━━━━━━━━\u001b[0m \u001b[32m167.9/167.9 kB\u001b[0m \u001b[31m9.4 MB/s\u001b[0m eta \u001b[36m0:00:00\u001b[0m\n",
            "\u001b[2K   \u001b[90m━━━━━━━━━━━━━━━━━━━━━━━━━━━━━━━━━━━━━━━━\u001b[0m \u001b[32m8.6/8.6 MB\u001b[0m \u001b[31m33.5 MB/s\u001b[0m eta \u001b[36m0:00:00\u001b[0m\n",
            "\u001b[?25h"
          ]
        }
      ]
    },
    {
      "cell_type": "code",
      "source": [
        "pip install geometric --quiet"
      ],
      "metadata": {
        "id": "PU9FiHq0p-0W",
        "colab": {
          "base_uri": "https://localhost:8080/"
        },
        "outputId": "03d16d84-4b45-402a-da58-8fccce76a6ed"
      },
      "execution_count": null,
      "outputs": [
        {
          "output_type": "stream",
          "name": "stdout",
          "text": [
            "\u001b[?25l     \u001b[90m━━━━━━━━━━━━━━━━━━━━━━━━━━━━━━━━━━━━━━━━\u001b[0m \u001b[32m0.0/386.0 kB\u001b[0m \u001b[31m?\u001b[0m eta \u001b[36m-:--:--\u001b[0m\r\u001b[2K     \u001b[91m━━━━━━━━━━━━━━\u001b[0m\u001b[90m╺\u001b[0m\u001b[90m━━━━━━━━━━━━━━━━━━━━━━━━\u001b[0m \u001b[32m143.4/386.0 kB\u001b[0m \u001b[31m4.1 MB/s\u001b[0m eta \u001b[36m0:00:01\u001b[0m\r\u001b[2K     \u001b[90m━━━━━━━━━━━━━━━━━━━━━━━━━━━━━━━━━━━━━━━\u001b[0m \u001b[32m386.0/386.0 kB\u001b[0m \u001b[31m6.1 MB/s\u001b[0m eta \u001b[36m0:00:00\u001b[0m\n",
            "\u001b[?25h  Preparing metadata (setup.py) ... \u001b[?25l\u001b[?25hdone\n",
            "  Building wheel for geometric (setup.py) ... \u001b[?25l\u001b[?25hdone\n"
          ]
        }
      ]
    },
    {
      "cell_type": "code",
      "source": [
        "pip install --upgrade pyscf --quiet"
      ],
      "metadata": {
        "id": "N_21rUT8f1FL",
        "colab": {
          "base_uri": "https://localhost:8080/"
        },
        "outputId": "ad6a50d3-d622-4354-9802-682044ffb64d"
      },
      "execution_count": null,
      "outputs": [
        {
          "output_type": "stream",
          "name": "stdout",
          "text": [
            "\u001b[2K   \u001b[90m━━━━━━━━━━━━━━━━━━━━━━━━━━━━━━━━━━━━━━━━\u001b[0m \u001b[32m51.2/51.2 MB\u001b[0m \u001b[31m10.0 MB/s\u001b[0m eta \u001b[36m0:00:00\u001b[0m\n",
            "\u001b[?25h"
          ]
        }
      ]
    },
    {
      "cell_type": "markdown",
      "source": [
        "# Initial Geometry Density Functional Theory Calculations"
      ],
      "metadata": {
        "id": "bYppNz_YgH6l"
      }
    },
    {
      "cell_type": "markdown",
      "source": [
        "$H_2$ has a linear geometry with a 180 degree angle, the bond length = 0.74 Å."
      ],
      "metadata": {
        "id": "M_TJNSTHoOF-"
      }
    },
    {
      "cell_type": "code",
      "source": [
        "from pyscf import gto, scf, dft\n",
        "from pyscf.geomopt import geometric_solver  # Internal optimizer\n",
        "from pyscf.geomopt.geometric_solver import optimize\n",
        "\n",
        "\n",
        "# Defining initial geometry\n",
        "# (in Å)\n",
        "mol = gto.M(\n",
        "    atom='''\n",
        "    H  0.0   0.0   0.0\n",
        "    H  0.0   0.740   0.0\n",
        "    ''',\n",
        "    basis='sto-3g',\n",
        "    charge=0,\n",
        "    unit='angstrom',\n",
        "    spin=0 )  # because closed-shell\n",
        "\n",
        "# Use RKS (DFT) with PBE functional\n",
        "mf = dft.RKS(mol)\n",
        "mf.xc = 'PBE'\n",
        "mf.kernel()\n",
        "print(\"Initial DFT (PBE) energy:\", mf.e_tot)\n",
        "\n",
        "# Optimize geometry\n",
        "mol_optimized = geometric_solver.optimize(mf)\n",
        "print(\"Optimized coordinates (Bohr):\", mol_optimized.atom_coords())\n",
        "\n",
        "# Re-run DFT on optimized geometry\n",
        "mf_optimized = dft.RKS(mol_optimized)\n",
        "mf_optimized.xc = 'PBE'\n",
        "mf_optimized.kernel()\n",
        "print(\"Optimized DFT energy:\", mf_optimized.e_tot)"
      ],
      "metadata": {
        "colab": {
          "base_uri": "https://localhost:8080/"
        },
        "id": "KUABrOcigs-g",
        "outputId": "c8fd63ed-5729-429a-fec5-8735e784f47d"
      },
      "execution_count": null,
      "outputs": [
        {
          "output_type": "stream",
          "name": "stdout",
          "text": [
            "converged SCF energy = -1.15207279503731\n"
          ]
        },
        {
          "output_type": "stream",
          "name": "stderr",
          "text": [
            "geometric-optimize called with the following command line:\n",
            "/usr/local/lib/python3.11/dist-packages/colab_kernel_launcher.py -f /root/.local/share/jupyter/runtime/kernel-b0a45bce-27fc-45c2-8117-5441b58c9ad8.json\n",
            "\n",
            "                                        \u001b[91m())))))))))))))))/\u001b[0m                     \n",
            "                                    \u001b[91m())))))))))))))))))))))))),\u001b[0m                \n",
            "                                \u001b[91m*)))))))))))))))))))))))))))))))))\u001b[0m             \n",
            "                        \u001b[94m#,\u001b[0m    \u001b[91m()))))))))/\u001b[0m                \u001b[91m.)))))))))),\u001b[0m          \n",
            "                      \u001b[94m#%%%%,\u001b[0m  \u001b[91m())))))\u001b[0m                        \u001b[91m.))))))))*\u001b[0m        \n",
            "                      \u001b[94m*%%%%%%,\u001b[0m  \u001b[91m))\u001b[0m              \u001b[93m..\u001b[0m              \u001b[91m,))))))).\u001b[0m      \n",
            "                        \u001b[94m*%%%%%%,\u001b[0m         \u001b[93m***************/.\u001b[0m        \u001b[91m.)))))))\u001b[0m     \n",
            "                \u001b[94m#%%/\u001b[0m      \u001b[94m(%%%%%%,\u001b[0m    \u001b[93m/*********************.\u001b[0m       \u001b[91m)))))))\u001b[0m    \n",
            "              \u001b[94m.%%%%%%#\u001b[0m      \u001b[94m*%%%%%%,\u001b[0m  \u001b[93m*******/,\u001b[0m     \u001b[93m**********,\u001b[0m      \u001b[91m.))))))\u001b[0m   \n",
            "                \u001b[94m.%%%%%%/\u001b[0m      \u001b[94m*%%%%%%,\u001b[0m  \u001b[93m**\u001b[0m              \u001b[93m********\u001b[0m      \u001b[91m.))))))\u001b[0m  \n",
            "          \u001b[94m##\u001b[0m      \u001b[94m.%%%%%%/\u001b[0m      \u001b[94m(%%%%%%,\u001b[0m                  \u001b[93m,******\u001b[0m      \u001b[91m/)))))\u001b[0m  \n",
            "        \u001b[94m%%%%%%\u001b[0m      \u001b[94m.%%%%%%#\u001b[0m      \u001b[94m*%%%%%%,\u001b[0m    \u001b[92m,/////.\u001b[0m       \u001b[93m******\u001b[0m      \u001b[91m))))))\u001b[0m \n",
            "      \u001b[94m#%\u001b[0m      \u001b[94m%%\u001b[0m      \u001b[94m.%%%%%%/\u001b[0m      \u001b[94m*%%%%%%,\u001b[0m  \u001b[92m////////,\u001b[0m      \u001b[93m*****/\u001b[0m     \u001b[91m,)))))\u001b[0m \n",
            "    \u001b[94m#%%\u001b[0m  \u001b[94m%%%\u001b[0m  \u001b[94m%%%#\u001b[0m      \u001b[94m.%%%%%%/\u001b[0m      \u001b[94m(%%%%%%,\u001b[0m  \u001b[92m///////.\u001b[0m     \u001b[93m/*****\u001b[0m      \u001b[91m))))).\u001b[0m\n",
            "  \u001b[94m#%%%%.\u001b[0m      \u001b[94m%%%%%#\u001b[0m      \u001b[94m/%%%%%%*\u001b[0m      \u001b[94m#%%%%%%\u001b[0m   \u001b[92m/////)\u001b[0m     \u001b[93m******\u001b[0m      \u001b[91m))))),\u001b[0m\n",
            "    \u001b[94m#%%%%##%\u001b[0m  \u001b[94m%%%#\u001b[0m      \u001b[94m.%%%%%%/\u001b[0m      \u001b[94m(%%%%%%,\u001b[0m  \u001b[92m///////.\u001b[0m     \u001b[93m/*****\u001b[0m      \u001b[91m))))).\u001b[0m\n",
            "      \u001b[94m##\u001b[0m     \u001b[94m%%%\u001b[0m      \u001b[94m.%%%%%%/\u001b[0m      \u001b[94m*%%%%%%,\u001b[0m  \u001b[92m////////.\u001b[0m      \u001b[93m*****/\u001b[0m     \u001b[91m,)))))\u001b[0m \n",
            "        \u001b[94m#%%%%#\u001b[0m      \u001b[94m/%%%%%%/\u001b[0m      \u001b[94m(%%%%%%\u001b[0m      \u001b[92m/)/)//\u001b[0m       \u001b[93m******\u001b[0m      \u001b[91m))))))\u001b[0m \n",
            "          \u001b[94m##\u001b[0m      \u001b[94m.%%%%%%/\u001b[0m      \u001b[94m(%%%%%%,\u001b[0m                  \u001b[93m*******\u001b[0m      \u001b[91m))))))\u001b[0m  \n",
            "                \u001b[94m.%%%%%%/\u001b[0m      \u001b[94m*%%%%%%,\u001b[0m  \u001b[93m**.\u001b[0m             \u001b[93m/*******\u001b[0m      \u001b[91m.))))))\u001b[0m  \n",
            "              \u001b[94m*%%%%%%/\u001b[0m      \u001b[94m(%%%%%%\u001b[0m   \u001b[93m********/*..,*/*********\u001b[0m       \u001b[91m*))))))\u001b[0m   \n",
            "                \u001b[94m#%%/\u001b[0m      \u001b[94m(%%%%%%,\u001b[0m    \u001b[93m*********************/\u001b[0m        \u001b[91m)))))))\u001b[0m    \n",
            "                        \u001b[94m*%%%%%%,\u001b[0m         \u001b[93m,**************/\u001b[0m         \u001b[91m,))))))/\u001b[0m     \n",
            "                      \u001b[94m(%%%%%%\u001b[0m   \u001b[91m()\u001b[0m                              \u001b[91m))))))))\u001b[0m       \n",
            "                      \u001b[94m#%%%%,\u001b[0m  \u001b[91m())))))\u001b[0m                        \u001b[91m,)))))))),\u001b[0m        \n",
            "                        \u001b[94m#,\u001b[0m    \u001b[91m())))))))))\u001b[0m                \u001b[91m,)))))))))).\u001b[0m          \n",
            "                                 \u001b[91m()))))))))))))))))))))))))))))))/\u001b[0m             \n",
            "                                    \u001b[91m())))))))))))))))))))))))).\u001b[0m                \n",
            "                                         \u001b[91m())))))))))))))),\u001b[0m                     \n",
            "\n",
            "-=# \u001b[1;94m geomeTRIC started. Version: 1.1 \u001b[0m #=-\n",
            "Current date and time: 2025-08-06 11:24:58\n",
            "#========================================================#\n",
            "#| \u001b[92m    Arguments passed to driver run_optimizer():     \u001b[0m |#\n",
            "#========================================================#\n",
            "customengine              <pyscf.geomopt.geometric_solver.PySCFEngine object at 0x7c2de8cc2590> \n",
            "input                     /tmp/tmpc2m3_41y/c8399cdb-3c7d-4e6a-b36a-92e4f567d6d3 \n",
            "logIni                    /usr/local/lib/python3.11/dist-packages/pyscf/geomopt/log.ini \n",
            "maxiter                   100 \n",
            "----------------------------------------------------------\n",
            "Custom engine selected.\n",
            "Bonds will be generated from interatomic distances less than 1.20 times sum of covalent radii\n",
            "6 internal coordinates being used (instead of 6 Cartesians)\n",
            "Internal coordinate system (atoms numbered from 1):\n",
            "Distance 1-2\n",
            "Translation-X 1-2\n",
            "Translation-Y 1-2\n",
            "Translation-Z 1-2\n",
            "Rotation-A 1-2\n",
            "Rotation-B 1-2\n",
            "Rotation-C 1-2\n",
            "<class 'geometric.internal.Distance'> : 1\n",
            "<class 'geometric.internal.TranslationX'> : 1\n",
            "<class 'geometric.internal.TranslationY'> : 1\n",
            "<class 'geometric.internal.TranslationZ'> : 1\n",
            "<class 'geometric.internal.RotationA'> : 1\n",
            "<class 'geometric.internal.RotationB'> : 1\n",
            "<class 'geometric.internal.RotationC'> : 1\n",
            "> ===== Optimization Info: ====\n",
            "> Job type: Energy minimization\n",
            "> Maximum number of optimization cycles: 100\n",
            "> Initial / maximum trust radius (Angstrom): 0.100 / 0.300\n",
            "> Convergence Criteria:\n",
            "> Will converge when all 5 criteria are reached:\n",
            ">  |Delta-E| < 1.00e-06\n",
            ">  RMS-Grad  < 3.00e-04\n",
            ">  Max-Grad  < 4.50e-04\n",
            ">  RMS-Disp  < 1.20e-03\n",
            ">  Max-Disp  < 1.80e-03\n",
            "> === End Optimization Info ===\n"
          ]
        },
        {
          "output_type": "stream",
          "name": "stdout",
          "text": [
            "Initial DFT (PBE) energy: -1.152072795037308\n",
            "\n",
            "Geometry optimization cycle 1\n",
            "Cartesian coordinates (Angstrom)\n",
            " Atom        New coordinates             dX        dY        dZ\n",
            "   H   0.000000   0.000000   0.000000    0.000000  0.000000  0.000000\n",
            "   H   0.000000   0.740000   0.000000    0.000000  0.000000  0.000000\n",
            "converged SCF energy = -1.15207279503731\n",
            "--------------- RKS_Scanner gradients ---------------\n",
            "         x                y                z\n",
            "0 H    -0.0000000000    -0.0048873431     0.0000000000\n",
            "1 H    -0.0000000000     0.0048873431    -0.0000000000\n",
            "----------------------------------------------\n",
            "cycle 1: E = -1.15207279504  dE = -1.15207  norm(grad) = 0.00691175\n"
          ]
        },
        {
          "output_type": "stream",
          "name": "stderr",
          "text": [
            "Step    0 : Gradient = 4.887e-03/4.887e-03 (rms/max) Energy = -1.1520727950\n",
            "Hessian Eigenvalues: 5.00000e-02 5.00000e-02 5.00000e-02 ... 5.00000e-02 5.00000e-02 3.91394e-01\n"
          ]
        },
        {
          "output_type": "stream",
          "name": "stdout",
          "text": [
            "\n",
            "Geometry optimization cycle 2\n",
            "Cartesian coordinates (Angstrom)\n",
            " Atom        New coordinates             dX        dY        dZ\n",
            "   H   0.000000   0.003304  -0.000000    0.000000  0.003304 -0.000000\n",
            "   H   0.000000   0.736696   0.000000    0.000000 -0.003304  0.000000\n",
            "converged SCF energy = -1.15209746230852\n",
            "--------------- RKS_Scanner gradients ---------------\n",
            "         x                y                z\n",
            "0 H    -0.0000000000     0.0009773284     0.0000000000\n",
            "1 H     0.0000000000    -0.0009773284    -0.0000000000\n",
            "----------------------------------------------\n",
            "cycle 2: E = -1.15209746231  dE = -2.46673e-05  norm(grad) = 0.00138215\n"
          ]
        },
        {
          "output_type": "stream",
          "name": "stderr",
          "text": [
            "Step    1 : Displace = \u001b[0m3.304e-03\u001b[0m/\u001b[0m3.304e-03\u001b[0m (rms/max) Trust = 1.000e-01 (=) Grad = \u001b[0m9.773e-04\u001b[0m/\u001b[0m9.773e-04\u001b[0m (rms/max) E (change) = -1.1520974623 (\u001b[0m-2.467e-05\u001b[0m) Quality = \u001b[0m0.808\u001b[0m\n",
            "Hessian Eigenvalues: 5.00000e-02 5.00000e-02 5.00000e-02 ... 5.00000e-02 5.00000e-02 4.69662e-01\n"
          ]
        },
        {
          "output_type": "stream",
          "name": "stdout",
          "text": [
            "\n",
            "Geometry optimization cycle 3\n",
            "Cartesian coordinates (Angstrom)\n",
            " Atom        New coordinates             dX        dY        dZ\n",
            "   H   0.000000   0.002753  -0.000000    0.000000 -0.000551 -0.000000\n",
            "   H  -0.000000   0.737247   0.000000   -0.000000  0.000551  0.000000\n",
            "converged SCF energy = -1.15209846014968\n",
            "--------------- RKS_Scanner gradients ---------------\n",
            "         x                y                z\n",
            "0 H     0.0000000000    -0.0000170707    -0.0000000000\n",
            "1 H    -0.0000000000     0.0000170707    -0.0000000000\n",
            "----------------------------------------------\n",
            "cycle 3: E = -1.15209846015  dE = -9.97841e-07  norm(grad) = 2.41417e-05\n"
          ]
        },
        {
          "output_type": "stream",
          "name": "stderr",
          "text": [
            "Step    2 : Displace = \u001b[92m5.506e-04\u001b[0m/\u001b[92m5.506e-04\u001b[0m (rms/max) Trust = 1.414e-01 (\u001b[92m+\u001b[0m) Grad = \u001b[92m1.707e-05\u001b[0m/\u001b[92m1.707e-05\u001b[0m (rms/max) E (change) = -1.1520984601 (\u001b[92m-9.978e-07\u001b[0m) Quality = \u001b[0m0.981\u001b[0m\n",
            "Hessian Eigenvalues: 5.00000e-02 5.00000e-02 5.00000e-02 ... 5.00000e-02 5.00000e-02 4.69662e-01\n",
            "Converged! =D\n",
            "\n",
            "    #==========================================================================#\n",
            "    #| If this code has benefited your research, please support us by citing: |#\n",
            "    #|                                                                        |#\n",
            "    #| Wang, L.-P.; Song, C.C. (2016) \"Geometry optimization made simple with |#\n",
            "    #| translation and rotation coordinates\", J. Chem, Phys. 144, 214108.     |#\n",
            "    #| http://dx.doi.org/10.1063/1.4952956                                    |#\n",
            "    #==========================================================================#\n",
            "    Time elapsed since start of run_optimizer: 0.919 seconds\n"
          ]
        },
        {
          "output_type": "stream",
          "name": "stdout",
          "text": [
            "Optimized coordinates (Bohr): [[ 1.00986839e-15  5.20304487e-03 -1.11524264e-15]\n",
            " [-1.25529934e-15  1.39319429e+00  7.70565030e-16]]\n",
            "converged SCF energy = -1.15209846016001\n",
            "Optimized DFT energy: -1.1520984601600075\n"
          ]
        }
      ]
    },
    {
      "cell_type": "markdown",
      "source": [
        "`mol.atom_coords()` always returns coordinates in atomic units (Bohr)."
      ],
      "metadata": {
        "id": "ehejImpa2TE1"
      }
    },
    {
      "cell_type": "code",
      "source": [
        "print(f\"Optimized coordinates (Bohr):\\n {mol_optimized.atom_coords()}\")\n",
        "print(\"Optimized DFT energy:\", mf_optimized.e_tot)"
      ],
      "metadata": {
        "colab": {
          "base_uri": "https://localhost:8080/"
        },
        "id": "18-19MqarSvL",
        "outputId": "f614a079-ba00-4b32-8127-4715302d0d5e"
      },
      "execution_count": null,
      "outputs": [
        {
          "output_type": "stream",
          "name": "stdout",
          "text": [
            "Optimized coordinates (Bohr):\n",
            " [[ 1.00986839e-15  5.20304487e-03 -1.11524264e-15]\n",
            " [-1.25529934e-15  1.39319429e+00  7.70565030e-16]]\n",
            "Optimized DFT energy: -1.1520984601600075\n"
          ]
        }
      ]
    },
    {
      "cell_type": "code",
      "execution_count": null,
      "metadata": {
        "id": "jlNml8ZSWJ5E",
        "colab": {
          "base_uri": "https://localhost:8080/"
        },
        "outputId": "9f7cdccf-933f-4265-eafc-30ed03a457d0"
      },
      "outputs": [
        {
          "output_type": "stream",
          "name": "stderr",
          "text": [
            "INFO:2025-08-06 11:26:02,070:jax._src.xla_bridge:924: Unable to initialize backend 'rocm': module 'jaxlib.xla_extension' has no attribute 'GpuAllocatorConfig'\n",
            "Unable to initialize backend 'rocm': module 'jaxlib.xla_extension' has no attribute 'GpuAllocatorConfig'INFO:2025-08-06 11:26:02,116:jax._src.xla_bridge:924: Unable to initialize backend 'tpu': INTERNAL: Failed to open libtpu.so: libtpu.so: cannot open shared object file: No such file or directory\n",
            "Unable to initialize backend 'tpu': INTERNAL: Failed to open libtpu.so: libtpu.so: cannot open shared object file: No such file or directory"
          ]
        }
      ],
      "source": [
        "import jax\n",
        "from jax import numpy as jnp\n",
        "\n",
        "jax.config.update(\"jax_enable_x64\", True)\n",
        "\n",
        "symbols = [\"H\", \"H\"]\n",
        "\n",
        "x = jnp.array([[ 1.00986839e-15,  5.20304487e-03, -1.11524264e-15],\n",
        "               [-1.25529934e-15,  1.39319429e+00,  7.70565030e-16]]) #Bohr"
      ]
    },
    {
      "cell_type": "markdown",
      "source": [
        "# Defining the Electronic Hamiltonian:"
      ],
      "metadata": {
        "id": "OBylpgRnIi5o"
      }
    },
    {
      "cell_type": "code",
      "source": [
        "import pennylane as qml\n",
        "\n",
        "\n",
        "def H(x):\n",
        "    molecule = qml.qchem.Molecule(symbols, x, charge=0)\n",
        "    return qml.qchem.molecular_hamiltonian(molecule)[0]"
      ],
      "metadata": {
        "id": "ac1YbGB1WWFU"
      },
      "execution_count": null,
      "outputs": []
    },
    {
      "cell_type": "markdown",
      "source": [
        "$H_2$ has 2 electrons and each Hydrogen has a $1s$ spatial orbital, so 2 spatial orbitals in total."
      ],
      "metadata": {
        "id": "C7NJ7mHyI-l1"
      }
    },
    {
      "cell_type": "markdown",
      "source": [
        "2 spatial * 2 = 4 spin orbitals."
      ],
      "metadata": {
        "id": "SHqal3q5Kktw"
      }
    },
    {
      "cell_type": "code",
      "source": [
        "hf = qml.qchem.hf_state(electrons=2, orbitals=4)  #spin orbitals\n",
        "print(hf)"
      ],
      "metadata": {
        "colab": {
          "base_uri": "https://localhost:8080/"
        },
        "id": "tNnDxueAWhVp",
        "outputId": "34ad87da-aa72-469e-b265-2f323a850b2f"
      },
      "execution_count": null,
      "outputs": [
        {
          "output_type": "stream",
          "name": "stdout",
          "text": [
            "[1 1 0 0]\n"
          ]
        }
      ]
    },
    {
      "cell_type": "markdown",
      "source": [
        "# The Circuit"
      ],
      "metadata": {
        "id": "_BJXLudjefEI"
      }
    },
    {
      "cell_type": "code",
      "source": [
        "num_wires = 4 #spin orbital number\n",
        "dev = qml.device(\"default.qubit\", wires=num_wires)\n",
        "\n",
        "\n",
        "@qml.qnode(dev, interface=\"jax\")\n",
        "def circuit(params, obs, wires):\n",
        "    qml.BasisState(hf, wires=wires)\n",
        "    qml.DoubleExcitation(params[0], wires=[0, 1, 2, 3])\n",
        "\n",
        "    return qml.expval(obs)"
      ],
      "metadata": {
        "id": "HvUD8T9lWkJ3"
      },
      "execution_count": null,
      "outputs": []
    },
    {
      "cell_type": "code",
      "source": [
        "def cost(params, x):\n",
        "    hamiltonian = H(x)\n",
        "    return circuit(params, obs=hamiltonian, wires=range(num_wires))"
      ],
      "metadata": {
        "id": "iWV4dGH6WqkA"
      },
      "execution_count": null,
      "outputs": []
    },
    {
      "cell_type": "code",
      "source": [
        "def finite_diff(f, x, delta=0.01):\n",
        "    \"\"\"Compute the central-difference finite difference of a function\"\"\"\n",
        "    gradient = []\n",
        "    x = jnp.ravel(x)\n",
        "\n",
        "    for i in range(len(x)):\n",
        "        shift = jnp.zeros_like(x)\n",
        "        shift = shift.at[i].set(0.5*delta)\n",
        "        res = (f(x + shift) - f(x - shift)) * delta**-1\n",
        "        gradient.append(res)\n",
        "\n",
        "    return gradient\n",
        "\n",
        "\n",
        "def grad_x(params, x):\n",
        "    grad_h = finite_diff(H, x)\n",
        "    grad = [circuit(params, obs=obs, wires=range(num_wires)) for obs in grad_h]\n",
        "    return jnp.array(grad).reshape(x.shape)"
      ],
      "metadata": {
        "id": "bZvJ3UlAWs_h"
      },
      "execution_count": null,
      "outputs": []
    },
    {
      "cell_type": "code",
      "source": [
        "theta = jnp.array([0.0]) #only one parameter needed for double excitation"
      ],
      "metadata": {
        "id": "AV9Wjq4kWwV1"
      },
      "execution_count": null,
      "outputs": []
    },
    {
      "cell_type": "markdown",
      "source": [
        "# Optimization"
      ],
      "metadata": {
        "id": "EXTFWEKAendd"
      }
    },
    {
      "cell_type": "code",
      "source": [
        "# store the values of the cost function\n",
        "energies = []\n",
        "\n",
        "# store the values of the bond length\n",
        "bond_length = []\n",
        "\n",
        "# Factor to convert from Bohrs to Angstroms\n",
        "bohr_angs = 0.529177210903\n",
        "\n",
        "for n in range(36):\n",
        "    # gradient for params\n",
        "    g_param = jax.grad(cost, argnums=[0])(theta, x)[0]\n",
        "    theta = theta - 0.8 * g_param\n",
        "\n",
        "    # gradient for coordinates\n",
        "    value, _ = jax.value_and_grad(cost, argnums=1)(theta, x)\n",
        "    grad = grad_x(theta, x)\n",
        "    x = x - 0.8 * grad\n",
        "    energies.append(value)\n",
        "    bond_length.append(jnp.linalg.norm(x[0] - x[1]) * bohr_angs)\n",
        "\n",
        "    if n % 4 == 0:\n",
        "        print(f\"Step = {n},  E = {energies[-1]:.8f} Ha,  bond length = {bond_length[-1]:.5f} A\")\n",
        "\n",
        "    # Check maximum component of the nuclear gradient\n",
        "    if jnp.max(grad_x(theta, x)) <= 1e-04:\n",
        "        break\n",
        "\n",
        "print(\"\\n\" f\"Final value of the ground-state energy = {energies[-1]:.8f} Ha\")\n",
        "print(\"\\n\" \"Ground-state equilibrium geometry\")\n",
        "print(\"%s %4s %8s %8s\" % (\"symbol\", \"x\", \"y\", \"z\"))\n",
        "for i, atom in enumerate(symbols):\n",
        "    print(f\"  {atom}    {x[0][i]:.4f}   {x[1][i]:.4f}   {x[2][i]:.4f}\")"
      ],
      "metadata": {
        "colab": {
          "base_uri": "https://localhost:8080/"
        },
        "id": "_szPfiAGWyqk",
        "outputId": "420374a8-b775-4d28-c4d7-258c5e0e77b0"
      },
      "execution_count": null,
      "outputs": [
        {
          "output_type": "stream",
          "name": "stdout",
          "text": [
            "Step = 0,  E = -1.13478017 Ha,  bond length = 0.72487 A\n",
            "Step = 4,  E = -1.13730412 Ha,  bond length = 0.73439 A\n",
            "\n",
            "Final value of the ground-state energy = -1.13730572 Ha\n",
            "\n",
            "Ground-state equilibrium geometry\n",
            "symbol    x        y        z\n",
            "  H    -0.0000   -0.0000   -0.0000\n",
            "  H    0.0050   1.3934   1.3934\n"
          ]
        }
      ]
    },
    {
      "cell_type": "code",
      "source": [
        "import matplotlib.pyplot as plt\n",
        "\n",
        "# Reference values (STO-3G basis)\n",
        "E_fci = -1.13728  # FCI energy for H2/STO-3G\n",
        "d_fci = 0.735      # Equilibrium bond length for H2/STO-3G (Å)\n",
        "\n",
        "fig = plt.figure(figsize=(12, 5))\n",
        "\n",
        "# Energy plot (left)\n",
        "ax1 = fig.add_subplot(121)\n",
        "ax1.plot(range(len(energies)), jnp.array(energies) - E_fci, \"go\", ls=\"dashed\", label=\"VQE Error\")\n",
        "ax1.axhline(0.0016, color=\"red\", label=\"Chemical Accuracy (1.6 mHa)\")\n",
        "ax1.set_xlabel(\"Optimization Step\", fontsize=13)\n",
        "ax1.set_ylabel(\"$E_{VQE} - E_{FCI}$ (Ha)\", fontsize=13)\n",
        "ax1.legend(fontsize=12)\n",
        "ax1.set_yscale(\"log\")\n",
        "ax1.grid(True, alpha=0.3)\n",
        "\n",
        "# Bond length plot (right)\n",
        "ax2 = fig.add_subplot(122)\n",
        "ax2.plot(range(len(bond_length)), bond_length, \"go\", ls=\"dashed\", label=\"VQE Bond Length\")\n",
        "ax2.axhline(d_fci, color=\"red\", label=\"Equilibrium (STO-3G)\")\n",
        "ax2.set_xlabel(\"Optimization Step\", fontsize=13)\n",
        "ax2.set_ylabel(\"Bond Length ($\\AA$)\", fontsize=13)\n",
        "ax2.set_ylim(0.72, 0.76)  # Adjusted for H2/STO-3G\n",
        "ax2.legend(fontsize=12)\n",
        "ax2.grid(True, alpha=0.3)\n",
        "\n",
        "plt.tight_layout()\n",
        "plt.show()"
      ],
      "metadata": {
        "colab": {
          "base_uri": "https://localhost:8080/",
          "height": 494
        },
        "id": "ddqzsz_SPSsb",
        "outputId": "6cfbae22-02f4-4798-a679-6b96c7eae3ee"
      },
      "execution_count": null,
      "outputs": [
        {
          "output_type": "display_data",
          "data": {
            "text/plain": [
              "<Figure size 1200x500 with 2 Axes>"
            ],
            "image/png": "[encoded data removed]"
          },
          "metadata": {}
        }
      ]
    },
    {
      "cell_type": "markdown",
      "source": [
        "**Note:** As the Equilibrium point I used the STO-3G reference values energy and equilibrium bond length results of FCI (like it was written in the paper) since the VQE calculation is performed in the STO-3G basis set."
      ],
      "metadata": {
        "id": "J4njl8itPyD1"
      }
    },
    {
      "cell_type": "code",
      "source": [
        "from pyscf import fci\n",
        "\n",
        "# H2 in STO-3G\n",
        "mol = gto.M(atom=\"H 0 0 0; H 0 0.735 0\", basis=\"sto-3g\")\n",
        "mf = scf.RHF(mol).run()\n",
        "cisolver = fci.FCI(mf)\n",
        "fci_energy = cisolver.kernel()[0]\n",
        "print(\"FCI energy (STO-3G):\", fci_energy)"
      ],
      "metadata": {
        "colab": {
          "base_uri": "https://localhost:8080/"
        },
        "id": "ncb2UYKqRGDi",
        "outputId": "322d3eba-fa9e-41d1-83a5-c99a663c4b60"
      },
      "execution_count": null,
      "outputs": [
        {
          "output_type": "stream",
          "name": "stdout",
          "text": [
            "converged SCF energy = -1.116998996754\n",
            "FCI energy (STO-3G): -1.1373060357534004\n"
          ]
        }
      ]
    }
  ]
}