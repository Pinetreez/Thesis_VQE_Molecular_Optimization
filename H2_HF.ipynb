{
  "nbformat": 4,
  "nbformat_minor": 0,
  "metadata": {
    "colab": {
      "provenance": []
    },
    "kernelspec": {
      "name": "python3",
      "display_name": "Python 3"
    },
    "language_info": {
      "name": "python"
    }
  },
  "cells": [
    {
      "cell_type": "markdown",
      "source": [
        "**$H_2$ Molecule with Hartree-Fock Initialization:**"
      ],
      "metadata": {
        "id": "qdisjLyyb1IP"
      }
    },
    {
      "cell_type": "code",
      "source": [
        "pip install pennylane --quiet"
      ],
      "metadata": {
        "id": "NeA2rXfPWYH4",
        "colab": {
          "base_uri": "https://localhost:8080/"
        },
        "outputId": "eb2355bd-c739-4205-8a95-e4ff995c9e85"
      },
      "execution_count": null,
      "outputs": [
        {
          "output_type": "stream",
          "name": "stdout",
          "text": [
            "\u001b[2K     \u001b[90m━━━━━━━━━━━━━━━━━━━━━━━━━━━━━━━━━━━━━━━━\u001b[0m \u001b[32m57.1/57.1 kB\u001b[0m \u001b[31m2.2 MB/s\u001b[0m eta \u001b[36m0:00:00\u001b[0m\n",
            "\u001b[2K   \u001b[90m━━━━━━━━━━━━━━━━━━━━━━━━━━━━━━━━━━━━━━━━\u001b[0m \u001b[32m4.8/4.8 MB\u001b[0m \u001b[31m43.8 MB/s\u001b[0m eta \u001b[36m0:00:00\u001b[0m\n",
            "\u001b[2K   \u001b[90m━━━━━━━━━━━━━━━━━━━━━━━━━━━━━━━━━━━━━━━━\u001b[0m \u001b[32m930.8/930.8 kB\u001b[0m \u001b[31m45.4 MB/s\u001b[0m eta \u001b[36m0:00:00\u001b[0m\n",
            "\u001b[2K   \u001b[90m━━━━━━━━━━━━━━━━━━━━━━━━━━━━━━━━━━━━━━━━\u001b[0m \u001b[32m2.6/2.6 MB\u001b[0m \u001b[31m63.2 MB/s\u001b[0m eta \u001b[36m0:00:00\u001b[0m\n",
            "\u001b[2K   \u001b[90m━━━━━━━━━━━━━━━━━━━━━━━━━━━━━━━━━━━━━━━━\u001b[0m \u001b[32m2.2/2.2 MB\u001b[0m \u001b[31m26.4 MB/s\u001b[0m eta \u001b[36m0:00:00\u001b[0m\n",
            "\u001b[2K   \u001b[90m━━━━━━━━━━━━━━━━━━━━━━━━━━━━━━━━━━━━━━━━\u001b[0m \u001b[32m167.9/167.9 kB\u001b[0m \u001b[31m11.9 MB/s\u001b[0m eta \u001b[36m0:00:00\u001b[0m\n",
            "\u001b[2K   \u001b[90m━━━━━━━━━━━━━━━━━━━━━━━━━━━━━━━━━━━━━━━━\u001b[0m \u001b[32m8.6/8.6 MB\u001b[0m \u001b[31m61.9 MB/s\u001b[0m eta \u001b[36m0:00:00\u001b[0m\n",
            "\u001b[?25h"
          ]
        }
      ]
    },
    {
      "cell_type": "code",
      "source": [
        "pip install geometric --quiet"
      ],
      "metadata": {
        "id": "PU9FiHq0p-0W",
        "colab": {
          "base_uri": "https://localhost:8080/"
        },
        "outputId": "518b0cf8-f42c-4a55-f9ef-6a539f2d082c"
      },
      "execution_count": null,
      "outputs": [
        {
          "output_type": "stream",
          "name": "stdout",
          "text": [
            "\u001b[?25l     \u001b[90m━━━━━━━━━━━━━━━━━━━━━━━━━━━━━━━━━━━━━━━━\u001b[0m \u001b[32m0.0/386.0 kB\u001b[0m \u001b[31m?\u001b[0m eta \u001b[36m-:--:--\u001b[0m\r\u001b[2K     \u001b[91m━━━━━━━━━━━━━━━━━━━━━━━━━━━━━━━━━━━━━\u001b[0m\u001b[90m╺\u001b[0m \u001b[32m378.9/386.0 kB\u001b[0m \u001b[31m15.8 MB/s\u001b[0m eta \u001b[36m0:00:01\u001b[0m\r\u001b[2K     \u001b[90m━━━━━━━━━━━━━━━━━━━━━━━━━━━━━━━━━━━━━━\u001b[0m \u001b[32m386.0/386.0 kB\u001b[0m \u001b[31m10.2 MB/s\u001b[0m eta \u001b[36m0:00:00\u001b[0m\n",
            "\u001b[?25h  Preparing metadata (setup.py) ... \u001b[?25l\u001b[?25hdone\n",
            "  Building wheel for geometric (setup.py) ... \u001b[?25l\u001b[?25hdone\n"
          ]
        }
      ]
    },
    {
      "cell_type": "code",
      "source": [
        "pip install --upgrade pyscf --quiet"
      ],
      "metadata": {
        "id": "N_21rUT8f1FL",
        "colab": {
          "base_uri": "https://localhost:8080/"
        },
        "outputId": "bfb59872-6054-43a6-b8ee-1a066b7af390"
      },
      "execution_count": null,
      "outputs": [
        {
          "output_type": "stream",
          "name": "stdout",
          "text": [
            "\u001b[2K   \u001b[90m━━━━━━━━━━━━━━━━━━━━━━━━━━━━━━━━━━━━━━━━\u001b[0m \u001b[32m51.2/51.2 MB\u001b[0m \u001b[31m11.0 MB/s\u001b[0m eta \u001b[36m0:00:00\u001b[0m\n",
            "\u001b[?25h"
          ]
        }
      ]
    },
    {
      "cell_type": "markdown",
      "source": [
        "# Initial Geometry Density Functional Theory Calculations"
      ],
      "metadata": {
        "id": "bYppNz_YgH6l"
      }
    },
    {
      "cell_type": "markdown",
      "source": [
        "$H_2$ has a linear geometry with a 180 degree angle, the bond length = 0.74 Å."
      ],
      "metadata": {
        "id": "M_TJNSTHoOF-"
      }
    },
    {
      "cell_type": "code",
      "source": [
        "from pyscf import gto, scf\n",
        "from pyscf.geomopt import geometric_solver  # Internal optimizer\n",
        "from pyscf.geomopt.geometric_solver import optimize\n",
        "\n",
        "# Define initial geometry (in Å)\n",
        "mol = gto.M(\n",
        "    atom='''\n",
        "    H  0.0   0.0   0.0\n",
        "    H  0.0   0.740   0.0\n",
        "    ''',\n",
        "    basis='sto-3g',\n",
        "    charge=0,\n",
        "    unit='angstrom',\n",
        "    spin=0  # closed-shell system (singlet)\n",
        ")\n",
        "\n",
        "# Run restricted Hartree-Fock (RHF) calculation\n",
        "mf = scf.RHF(mol)\n",
        "mf.kernel()\n",
        "print(\"Initial HF energy:\", mf.e_tot)\n",
        "\n",
        "# Optimize geometry using the internal PySCF optimizer\n",
        "mol_optimized = geometric_solver.optimize(mf)\n",
        "print(\"Optimized coordinates (Bohr):\", mol_optimized.atom_coords())\n",
        "\n",
        "# Re-run HF calculation on the optimized geometry\n",
        "mf_optimized = scf.RHF(mol_optimized)\n",
        "mf_optimized.kernel()\n",
        "print(\"Optimized HF energy:\", mf_optimized.e_tot)"
      ],
      "metadata": {
        "colab": {
          "base_uri": "https://localhost:8080/"
        },
        "id": "KUABrOcigs-g",
        "outputId": "dedfb0c0-89fc-4d90-fd6c-959d89ecdedf"
      },
      "execution_count": null,
      "outputs": [
        {
          "output_type": "stream",
          "name": "stdout",
          "text": [
            "converged SCF energy = -1.11675930739643\n"
          ]
        },
        {
          "output_type": "stream",
          "name": "stderr",
          "text": [
            "geometric-optimize called with the following command line:\n",
            "/usr/local/lib/python3.12/dist-packages/colab_kernel_launcher.py -f /root/.local/share/jupyter/runtime/kernel-dd5b9173-a5f8-45ce-b0b3-edc490bc17ad.json\n",
            "\n",
            "                                        \u001b[91m())))))))))))))))/\u001b[0m                     \n",
            "                                    \u001b[91m())))))))))))))))))))))))),\u001b[0m                \n",
            "                                \u001b[91m*)))))))))))))))))))))))))))))))))\u001b[0m             \n",
            "                        \u001b[94m#,\u001b[0m    \u001b[91m()))))))))/\u001b[0m                \u001b[91m.)))))))))),\u001b[0m          \n",
            "                      \u001b[94m#%%%%,\u001b[0m  \u001b[91m())))))\u001b[0m                        \u001b[91m.))))))))*\u001b[0m        \n",
            "                      \u001b[94m*%%%%%%,\u001b[0m  \u001b[91m))\u001b[0m              \u001b[93m..\u001b[0m              \u001b[91m,))))))).\u001b[0m      \n",
            "                        \u001b[94m*%%%%%%,\u001b[0m         \u001b[93m***************/.\u001b[0m        \u001b[91m.)))))))\u001b[0m     \n",
            "                \u001b[94m#%%/\u001b[0m      \u001b[94m(%%%%%%,\u001b[0m    \u001b[93m/*********************.\u001b[0m       \u001b[91m)))))))\u001b[0m    \n",
            "              \u001b[94m.%%%%%%#\u001b[0m      \u001b[94m*%%%%%%,\u001b[0m  \u001b[93m*******/,\u001b[0m     \u001b[93m**********,\u001b[0m      \u001b[91m.))))))\u001b[0m   \n",
            "                \u001b[94m.%%%%%%/\u001b[0m      \u001b[94m*%%%%%%,\u001b[0m  \u001b[93m**\u001b[0m              \u001b[93m********\u001b[0m      \u001b[91m.))))))\u001b[0m  \n",
            "          \u001b[94m##\u001b[0m      \u001b[94m.%%%%%%/\u001b[0m      \u001b[94m(%%%%%%,\u001b[0m                  \u001b[93m,******\u001b[0m      \u001b[91m/)))))\u001b[0m  \n",
            "        \u001b[94m%%%%%%\u001b[0m      \u001b[94m.%%%%%%#\u001b[0m      \u001b[94m*%%%%%%,\u001b[0m    \u001b[92m,/////.\u001b[0m       \u001b[93m******\u001b[0m      \u001b[91m))))))\u001b[0m \n",
            "      \u001b[94m#%\u001b[0m      \u001b[94m%%\u001b[0m      \u001b[94m.%%%%%%/\u001b[0m      \u001b[94m*%%%%%%,\u001b[0m  \u001b[92m////////,\u001b[0m      \u001b[93m*****/\u001b[0m     \u001b[91m,)))))\u001b[0m \n",
            "    \u001b[94m#%%\u001b[0m  \u001b[94m%%%\u001b[0m  \u001b[94m%%%#\u001b[0m      \u001b[94m.%%%%%%/\u001b[0m      \u001b[94m(%%%%%%,\u001b[0m  \u001b[92m///////.\u001b[0m     \u001b[93m/*****\u001b[0m      \u001b[91m))))).\u001b[0m\n",
            "  \u001b[94m#%%%%.\u001b[0m      \u001b[94m%%%%%#\u001b[0m      \u001b[94m/%%%%%%*\u001b[0m      \u001b[94m#%%%%%%\u001b[0m   \u001b[92m/////)\u001b[0m     \u001b[93m******\u001b[0m      \u001b[91m))))),\u001b[0m\n",
            "    \u001b[94m#%%%%##%\u001b[0m  \u001b[94m%%%#\u001b[0m      \u001b[94m.%%%%%%/\u001b[0m      \u001b[94m(%%%%%%,\u001b[0m  \u001b[92m///////.\u001b[0m     \u001b[93m/*****\u001b[0m      \u001b[91m))))).\u001b[0m\n",
            "      \u001b[94m##\u001b[0m     \u001b[94m%%%\u001b[0m      \u001b[94m.%%%%%%/\u001b[0m      \u001b[94m*%%%%%%,\u001b[0m  \u001b[92m////////.\u001b[0m      \u001b[93m*****/\u001b[0m     \u001b[91m,)))))\u001b[0m \n",
            "        \u001b[94m#%%%%#\u001b[0m      \u001b[94m/%%%%%%/\u001b[0m      \u001b[94m(%%%%%%\u001b[0m      \u001b[92m/)/)//\u001b[0m       \u001b[93m******\u001b[0m      \u001b[91m))))))\u001b[0m \n",
            "          \u001b[94m##\u001b[0m      \u001b[94m.%%%%%%/\u001b[0m      \u001b[94m(%%%%%%,\u001b[0m                  \u001b[93m*******\u001b[0m      \u001b[91m))))))\u001b[0m  \n",
            "                \u001b[94m.%%%%%%/\u001b[0m      \u001b[94m*%%%%%%,\u001b[0m  \u001b[93m**.\u001b[0m             \u001b[93m/*******\u001b[0m      \u001b[91m.))))))\u001b[0m  \n",
            "              \u001b[94m*%%%%%%/\u001b[0m      \u001b[94m(%%%%%%\u001b[0m   \u001b[93m********/*..,*/*********\u001b[0m       \u001b[91m*))))))\u001b[0m   \n",
            "                \u001b[94m#%%/\u001b[0m      \u001b[94m(%%%%%%,\u001b[0m    \u001b[93m*********************/\u001b[0m        \u001b[91m)))))))\u001b[0m    \n",
            "                        \u001b[94m*%%%%%%,\u001b[0m         \u001b[93m,**************/\u001b[0m         \u001b[91m,))))))/\u001b[0m     \n",
            "                      \u001b[94m(%%%%%%\u001b[0m   \u001b[91m()\u001b[0m                              \u001b[91m))))))))\u001b[0m       \n",
            "                      \u001b[94m#%%%%,\u001b[0m  \u001b[91m())))))\u001b[0m                        \u001b[91m,)))))))),\u001b[0m        \n",
            "                        \u001b[94m#,\u001b[0m    \u001b[91m())))))))))\u001b[0m                \u001b[91m,)))))))))).\u001b[0m          \n",
            "                                 \u001b[91m()))))))))))))))))))))))))))))))/\u001b[0m             \n",
            "                                    \u001b[91m())))))))))))))))))))))))).\u001b[0m                \n",
            "                                         \u001b[91m())))))))))))))),\u001b[0m                     \n",
            "\n",
            "-=# \u001b[1;94m geomeTRIC started. Version: 1.1 \u001b[0m #=-\n",
            "Current date and time: 2025-10-14 12:46:25\n",
            "#========================================================#\n",
            "#| \u001b[92m    Arguments passed to driver run_optimizer():     \u001b[0m |#\n",
            "#========================================================#\n",
            "customengine              <pyscf.geomopt.geometric_solver.PySCFEngine object at 0x7d9b127f8440> \n",
            "input                     /tmp/tmpeqxflyzq/7241172a-42dd-45e0-9fc0-1c60094768b6 \n",
            "logIni                    /usr/local/lib/python3.12/dist-packages/pyscf/geomopt/log.ini \n",
            "maxiter                   100 \n",
            "----------------------------------------------------------\n",
            "Custom engine selected.\n",
            "Bonds will be generated from interatomic distances less than 1.20 times sum of covalent radii\n",
            "6 internal coordinates being used (instead of 6 Cartesians)\n",
            "Internal coordinate system (atoms numbered from 1):\n",
            "Distance 1-2\n",
            "Translation-X 1-2\n",
            "Translation-Y 1-2\n",
            "Translation-Z 1-2\n",
            "Rotation-A 1-2\n",
            "Rotation-B 1-2\n",
            "Rotation-C 1-2\n",
            "<class 'geometric.internal.Distance'> : 1\n",
            "<class 'geometric.internal.TranslationX'> : 1\n",
            "<class 'geometric.internal.TranslationY'> : 1\n",
            "<class 'geometric.internal.TranslationZ'> : 1\n",
            "<class 'geometric.internal.RotationA'> : 1\n",
            "<class 'geometric.internal.RotationB'> : 1\n",
            "<class 'geometric.internal.RotationC'> : 1\n",
            "> ===== Optimization Info: ====\n",
            "> Job type: Energy minimization\n",
            "> Maximum number of optimization cycles: 100\n",
            "> Initial / maximum trust radius (Angstrom): 0.100 / 0.300\n",
            "> Convergence Criteria:\n",
            "> Will converge when all 5 criteria are reached:\n",
            ">  |Delta-E| < 1.00e-06\n",
            ">  RMS-Grad  < 3.00e-04\n",
            ">  Max-Grad  < 4.50e-04\n",
            ">  RMS-Disp  < 1.20e-03\n",
            ">  Max-Disp  < 1.80e-03\n",
            "> === End Optimization Info ===\n"
          ]
        },
        {
          "output_type": "stream",
          "name": "stdout",
          "text": [
            "Initial HF energy: -1.1167593073964255\n",
            "\n",
            "Geometry optimization cycle 1\n",
            "Cartesian coordinates (Angstrom)\n",
            " Atom        New coordinates             dX        dY        dZ\n",
            "   H   0.000000   0.000000   0.000000    0.000000  0.000000  0.000000\n",
            "   H   0.000000   0.740000   0.000000    0.000000  0.000000  0.000000\n",
            "converged SCF energy = -1.11675930739643\n",
            "--------------- RHF_Scanner gradients ---------------\n",
            "         x                y                z\n",
            "0 H     0.0000000000    -0.0276796007     0.0000000000\n",
            "1 H     0.0000000000     0.0276796007     0.0000000000\n",
            "----------------------------------------------\n",
            "cycle 1: E = -1.1167593074  dE = -1.11676  norm(grad) = 0.0391449\n"
          ]
        },
        {
          "output_type": "stream",
          "name": "stderr",
          "text": [
            "Step    0 : Gradient = 2.768e-02/2.768e-02 (rms/max) Energy = -1.1167593074\n",
            "Hessian Eigenvalues: 5.00000e-02 5.00000e-02 5.00000e-02 ... 5.00000e-02 5.00000e-02 3.91394e-01\n"
          ]
        },
        {
          "output_type": "stream",
          "name": "stdout",
          "text": [
            "\n",
            "Geometry optimization cycle 2\n",
            "Cartesian coordinates (Angstrom)\n",
            " Atom        New coordinates             dX        dY        dZ\n",
            "   H   0.000000   0.018712   0.000000    0.000000  0.018712  0.000000\n",
            "   H   0.000000   0.721288   0.000000    0.000000 -0.018712  0.000000\n",
            "converged SCF energy = -1.11740866963845\n",
            "--------------- RHF_Scanner gradients ---------------\n",
            "         x                y                z\n",
            "0 H     0.0000000000     0.0107627984     0.0000000000\n",
            "1 H     0.0000000000    -0.0107627984     0.0000000000\n",
            "----------------------------------------------\n",
            "cycle 2: E = -1.11740866964  dE = -0.000649362  norm(grad) = 0.0152209\n"
          ]
        },
        {
          "output_type": "stream",
          "name": "stderr",
          "text": [
            "Step    1 : Displace = \u001b[0m1.871e-02\u001b[0m/\u001b[0m1.871e-02\u001b[0m (rms/max) Trust = 1.000e-01 (=) Grad = \u001b[0m1.076e-02\u001b[0m/\u001b[0m1.076e-02\u001b[0m (rms/max) E (change) = -1.1174086696 (\u001b[0m-6.494e-04\u001b[0m) Quality = \u001b[0m0.663\u001b[0m\n",
            "Hessian Eigenvalues: 5.00000e-02 5.00000e-02 5.00000e-02 ... 5.00000e-02 5.00000e-02 5.43582e-01\n"
          ]
        },
        {
          "output_type": "stream",
          "name": "stdout",
          "text": [
            "\n",
            "Geometry optimization cycle 3\n",
            "Cartesian coordinates (Angstrom)\n",
            " Atom        New coordinates             dX        dY        dZ\n",
            "   H   0.000000   0.013473   0.000000    0.000000 -0.005239  0.000000\n",
            "   H   0.000000   0.726527   0.000000    0.000000  0.005239  0.000000\n",
            "converged SCF energy = -1.11750519160004\n",
            "--------------- RHF_Scanner gradients ---------------\n",
            "         x                y                z\n",
            "0 H     0.0000000000    -0.0008899691     0.0000000000\n",
            "1 H     0.0000000000     0.0008899691     0.0000000000\n",
            "----------------------------------------------\n",
            "cycle 3: E = -1.1175051916  dE = -9.6522e-05  norm(grad) = 0.00125861\n"
          ]
        },
        {
          "output_type": "stream",
          "name": "stderr",
          "text": [
            "Step    2 : Displace = \u001b[0m5.239e-03\u001b[0m/\u001b[0m5.239e-03\u001b[0m (rms/max) Trust = 1.000e-01 (=) Grad = \u001b[0m8.900e-04\u001b[0m/\u001b[0m8.900e-04\u001b[0m (rms/max) E (change) = -1.1175051916 (\u001b[0m-9.652e-05\u001b[0m) Quality = \u001b[0m0.906\u001b[0m\n",
            "Hessian Eigenvalues: 5.00000e-02 5.00000e-02 5.00000e-02 ... 5.00000e-02 5.00000e-02 5.88530e-01\n"
          ]
        },
        {
          "output_type": "stream",
          "name": "stdout",
          "text": [
            "\n",
            "Geometry optimization cycle 4\n",
            "Cartesian coordinates (Angstrom)\n",
            " Atom        New coordinates             dX        dY        dZ\n",
            "   H   0.000000   0.013873   0.000000    0.000000  0.000400  0.000000\n",
            "   H   0.000000   0.726127   0.000000    0.000000 -0.000400  0.000000\n",
            "converged SCF energy = -1.11750588453514\n",
            "--------------- RHF_Scanner gradients ---------------\n",
            "         x                y                z\n",
            "0 H     0.0000000000    -0.0000258007     0.0000000000\n",
            "1 H     0.0000000000     0.0000258007     0.0000000000\n",
            "----------------------------------------------\n",
            "cycle 4: E = -1.11750588454  dE = -6.92935e-07  norm(grad) = 3.64878e-05\n"
          ]
        },
        {
          "output_type": "stream",
          "name": "stderr",
          "text": [
            "Step    3 : Displace = \u001b[92m4.001e-04\u001b[0m/\u001b[92m4.001e-04\u001b[0m (rms/max) Trust = 1.414e-01 (\u001b[92m+\u001b[0m) Grad = \u001b[92m2.580e-05\u001b[0m/\u001b[92m2.580e-05\u001b[0m (rms/max) E (change) = -1.1175058845 (\u001b[92m-6.929e-07\u001b[0m) Quality = \u001b[0m1.030\u001b[0m\n",
            "Hessian Eigenvalues: 5.00000e-02 5.00000e-02 5.00000e-02 ... 5.00000e-02 5.00000e-02 5.88530e-01\n",
            "Converged! =D\n",
            "\n",
            "    #==========================================================================#\n",
            "    #| If this code has benefited your research, please support us by citing: |#\n",
            "    #|                                                                        |#\n",
            "    #| Wang, L.-P.; Song, C.C. (2016) \"Geometry optimization made simple with |#\n",
            "    #| translation and rotation coordinates\", J. Chem, Phys. 144, 214108.     |#\n",
            "    #| http://dx.doi.org/10.1063/1.4952956                                    |#\n",
            "    #==========================================================================#\n",
            "    Time elapsed since start of run_optimizer: 0.673 seconds\n"
          ]
        },
        {
          "output_type": "stream",
          "name": "stdout",
          "text": [
            "Optimized coordinates (Bohr): [[0.         0.02621647 0.        ]\n",
            " [0.         1.37218086 0.        ]]\n",
            "converged SCF energy = -1.11750588453514\n",
            "Optimized HF energy: -1.117505884535139\n"
          ]
        }
      ]
    },
    {
      "cell_type": "markdown",
      "source": [
        "`mol.atom_coords()` always returns coordinates in atomic units (Bohr)."
      ],
      "metadata": {
        "id": "ehejImpa2TE1"
      }
    },
    {
      "cell_type": "code",
      "execution_count": null,
      "metadata": {
        "id": "jlNml8ZSWJ5E",
        "colab": {
          "base_uri": "https://localhost:8080/"
        },
        "outputId": "d51bd3c1-709e-4ccc-92c8-3499cbd8b7c1"
      },
      "outputs": [
        {
          "output_type": "stream",
          "name": "stderr",
          "text": [
            "INFO:2025-10-14 12:47:24,351:jax._src.xla_bridge:925: Unable to initialize backend 'rocm': module 'jaxlib.xla_extension' has no attribute 'GpuAllocatorConfig'\n",
            "Unable to initialize backend 'rocm': module 'jaxlib.xla_extension' has no attribute 'GpuAllocatorConfig'INFO:2025-10-14 12:47:24,387:jax._src.xla_bridge:925: Unable to initialize backend 'tpu': INTERNAL: Failed to open libtpu.so: libtpu.so: cannot open shared object file: No such file or directory\n",
            "Unable to initialize backend 'tpu': INTERNAL: Failed to open libtpu.so: libtpu.so: cannot open shared object file: No such file or directory"
          ]
        }
      ],
      "source": [
        "import jax\n",
        "from jax import numpy as jnp\n",
        "\n",
        "jax.config.update(\"jax_enable_x64\", True)\n",
        "\n",
        "symbols = [\"H\", \"H\"]\n",
        "\n",
        "x = jnp.array([[0,         0.02621647,     0        ],\n",
        "               [0,         1.37218086,     0        ]]) #Bohr"
      ]
    },
    {
      "cell_type": "markdown",
      "source": [
        "# Defining the Electronic Hamiltonian:"
      ],
      "metadata": {
        "id": "OBylpgRnIi5o"
      }
    },
    {
      "cell_type": "code",
      "source": [
        "import pennylane as qml\n",
        "\n",
        "\n",
        "def H(x):\n",
        "    molecule = qml.qchem.Molecule(symbols, x, charge=0)\n",
        "    return qml.qchem.molecular_hamiltonian(molecule)[0]"
      ],
      "metadata": {
        "id": "ac1YbGB1WWFU"
      },
      "execution_count": null,
      "outputs": []
    },
    {
      "cell_type": "markdown",
      "source": [
        "$H_2$ has 2 electrons and each Hydrogen has a $1s$ spatial orbital, so 2 spatial orbitals in total."
      ],
      "metadata": {
        "id": "C7NJ7mHyI-l1"
      }
    },
    {
      "cell_type": "markdown",
      "source": [
        "2 spatial * 2 = 4 spin orbitals."
      ],
      "metadata": {
        "id": "SHqal3q5Kktw"
      }
    },
    {
      "cell_type": "code",
      "source": [
        "hf = qml.qchem.hf_state(electrons=2, orbitals=4)  #spin orbitals\n",
        "print(hf)"
      ],
      "metadata": {
        "colab": {
          "base_uri": "https://localhost:8080/"
        },
        "id": "tNnDxueAWhVp",
        "outputId": "b9ea3ae7-a340-44a1-d4c1-154f5b4ac6f2"
      },
      "execution_count": null,
      "outputs": [
        {
          "output_type": "stream",
          "name": "stdout",
          "text": [
            "[1 1 0 0]\n"
          ]
        }
      ]
    },
    {
      "cell_type": "markdown",
      "source": [
        "# The Circuit"
      ],
      "metadata": {
        "id": "_BJXLudjefEI"
      }
    },
    {
      "cell_type": "code",
      "source": [
        "num_wires = 4 #spin orbital number\n",
        "dev = qml.device(\"default.qubit\", wires=num_wires)\n",
        "\n",
        "\n",
        "@qml.qnode(dev, interface=\"jax\")\n",
        "def circuit(params, obs, wires):\n",
        "    qml.BasisState(hf, wires=wires)\n",
        "    qml.DoubleExcitation(params[0], wires=[0, 1, 2, 3])\n",
        "\n",
        "    return qml.expval(obs)"
      ],
      "metadata": {
        "id": "HvUD8T9lWkJ3"
      },
      "execution_count": null,
      "outputs": []
    },
    {
      "cell_type": "code",
      "source": [
        "def cost(params, x):\n",
        "    hamiltonian = H(x)\n",
        "    return circuit(params, obs=hamiltonian, wires=range(num_wires))"
      ],
      "metadata": {
        "id": "iWV4dGH6WqkA"
      },
      "execution_count": null,
      "outputs": []
    },
    {
      "cell_type": "code",
      "source": [
        "def finite_diff(f, x, delta=0.01):\n",
        "    \"\"\"Compute the central-difference finite difference of a function\"\"\"\n",
        "    gradient = []\n",
        "    x = jnp.ravel(x)\n",
        "\n",
        "    for i in range(len(x)):\n",
        "        shift = jnp.zeros_like(x)\n",
        "        shift = shift.at[i].set(0.5*delta)\n",
        "        res = (f(x + shift) - f(x - shift)) * delta**-1\n",
        "        gradient.append(res)\n",
        "\n",
        "    return gradient\n",
        "\n",
        "\n",
        "def grad_x(params, x):\n",
        "    grad_h = finite_diff(H, x)\n",
        "    grad = [circuit(params, obs=obs, wires=range(num_wires)) for obs in grad_h]\n",
        "    return jnp.array(grad).reshape(x.shape)"
      ],
      "metadata": {
        "id": "bZvJ3UlAWs_h"
      },
      "execution_count": null,
      "outputs": []
    },
    {
      "cell_type": "code",
      "source": [
        "theta = jnp.array([0.0]) #only one parameter needed for double excitation"
      ],
      "metadata": {
        "id": "AV9Wjq4kWwV1"
      },
      "execution_count": null,
      "outputs": []
    },
    {
      "cell_type": "markdown",
      "source": [
        "# Optimization"
      ],
      "metadata": {
        "id": "EXTFWEKAendd"
      }
    },
    {
      "cell_type": "code",
      "source": [
        "# store the values of the cost function\n",
        "energies = []\n",
        "\n",
        "# store the values of the bond length\n",
        "bond_length = []\n",
        "\n",
        "# Factor to convert from Bohrs to Angstroms\n",
        "bohr_angs = 0.529177210903\n",
        "\n",
        "for n in range(36):\n",
        "    # gradient for params\n",
        "    g_param = jax.grad(cost, argnums=[0])(theta, x)[0]\n",
        "    theta = theta - 0.8 * g_param\n",
        "\n",
        "    # gradient for coordinates\n",
        "    value, _ = jax.value_and_grad(cost, argnums=1)(theta, x)\n",
        "    grad = grad_x(theta, x)\n",
        "    x = x - 0.8 * grad\n",
        "    energies.append(value)\n",
        "    bond_length.append(jnp.linalg.norm(x[0] - x[1]) * bohr_angs)\n",
        "\n",
        "    if n % 4 == 0:\n",
        "        print(f\"Step = {n},  E = {energies[-1]:.8f} Ha,  bond length = {bond_length[-1]:.5f} A\")\n",
        "\n",
        "    # Check maximum component of the nuclear gradient\n",
        "    if jnp.max(grad_x(theta, x)) <= 1e-04:\n",
        "        break\n",
        "\n",
        "print(\"\\n\" f\"Final value of the ground-state energy = {energies[-1]:.8f} Ha\")\n",
        "print(\"\\n\" \"Ground-state equilibrium geometry\")\n",
        "print(\"%s %4s %8s %8s\" % (\"symbol\", \"x\", \"y\", \"z\"))\n",
        "for i, atom in enumerate(symbols):\n",
        "    print(f\"  {atom}    {x[0][i]:.4f}   {x[1][i]:.4f}   {x[2][i]:.4f}\")"
      ],
      "metadata": {
        "colab": {
          "base_uri": "https://localhost:8080/"
        },
        "id": "_szPfiAGWyqk",
        "outputId": "2912ac15-923f-4db7-9cc6-0f422dc970ef"
      },
      "execution_count": null,
      "outputs": [
        {
          "output_type": "stream",
          "name": "stdout",
          "text": [
            "Step = 0,  E = -1.13473696 Ha,  bond length = 0.72177 A\n",
            "Step = 4,  E = -1.13730395 Ha,  bond length = 0.73437 A\n",
            "\n",
            "Final value of the ground-state energy = -1.13730569 Ha\n",
            "\n",
            "Ground-state equilibrium geometry\n",
            "symbol    x        y        z\n",
            "  H    0.0000   0.0000   0.0000\n",
            "  H    0.0050   1.3934   1.3934\n"
          ]
        }
      ]
    },
    {
      "cell_type": "code",
      "source": [
        "import matplotlib.pyplot as plt\n",
        "\n",
        "# Reference values (STO-3G basis)\n",
        "E_fci = -1.13728  # FCI energy for H2/STO-3G\n",
        "d_fci = 0.735      # Equilibrium bond length for H2/STO-3G (Å)\n",
        "\n",
        "fig = plt.figure(figsize=(12, 5))\n",
        "\n",
        "# Energy plot (left)\n",
        "ax1 = fig.add_subplot(121)\n",
        "ax1.plot(range(len(energies)), jnp.array(energies) - E_fci, \"go\", ls=\"dashed\", label=\"VQE Error\")\n",
        "ax1.axhline(0.0016, color=\"red\", label=\"Chemical Accuracy (1.6 mHa)\")\n",
        "ax1.set_xlabel(\"Optimization Step\", fontsize=13)\n",
        "ax1.set_ylabel(\"$E_{VQE} - E_{FCI}$ (Ha)\", fontsize=13)\n",
        "ax1.legend(fontsize=12)\n",
        "ax1.set_yscale(\"log\")\n",
        "ax1.grid(True, alpha=0.3)\n",
        "\n",
        "# Bond length plot (right)\n",
        "ax2 = fig.add_subplot(122)\n",
        "ax2.plot(range(len(bond_length)), bond_length, \"go\", ls=\"dashed\", label=\"VQE Bond Length\")\n",
        "ax2.axhline(d_fci, color=\"red\", label=\"Equilibrium (STO-3G)\")\n",
        "ax2.set_xlabel(\"Optimization Step\", fontsize=13)\n",
        "ax2.set_ylabel(\"Bond Length ($\\AA$)\", fontsize=13)\n",
        "ax2.set_ylim(0.72, 0.76)  # Adjusted for H2/STO-3G\n",
        "ax2.legend(fontsize=12)\n",
        "ax2.grid(True, alpha=0.3)\n",
        "\n",
        "plt.tight_layout()\n",
        "plt.show()"
      ],
      "metadata": {
        "colab": {
          "base_uri": "https://localhost:8080/",
          "height": 549
        },
        "id": "ddqzsz_SPSsb",
        "outputId": "4e249f7b-dc38-4898-fbd2-31b4b48545e6"
      },
      "execution_count": null,
      "outputs": [
        {
          "output_type": "stream",
          "name": "stderr",
          "text": [
            "<>:24: SyntaxWarning: invalid escape sequence '\\A'\n",
            "<>:24: SyntaxWarning: invalid escape sequence '\\A'\n",
            "/tmp/ipython-input-2321774632.py:24: SyntaxWarning: invalid escape sequence '\\A'\n",
            "  ax2.set_ylabel(\"Bond Length ($\\AA$)\", fontsize=13)\n"
          ]
        },
        {
          "output_type": "display_data",
          "data": {
            "text/plain": [
              "<Figure size 1200x500 with 2 Axes>"
            ],
            "image/png": "[encoded data removed]"
          },
          "metadata": {}
        }
      ]
    },
    {
      "cell_type": "markdown",
      "source": [
        "**Note:** As the Equilibrium point I used the STO-3G reference values energy and equilibrium bond length results of FCI (as written in the paper) since the VQE calculation is performed in the STO-3G basis set."
      ],
      "metadata": {
        "id": "J4njl8itPyD1"
      }
    },
    {
      "cell_type": "code",
      "source": [
        "from pyscf import fci\n",
        "\n",
        "# H2 in STO-3G\n",
        "mol = gto.M(atom=\"H 0 0 0; H 0 0.735 0\", basis=\"sto-3g\")\n",
        "mf = scf.RHF(mol).run()\n",
        "cisolver = fci.FCI(mf)\n",
        "fci_energy = cisolver.kernel()[0]\n",
        "print(\"FCI energy (STO-3G):\", fci_energy)"
      ],
      "metadata": {
        "colab": {
          "base_uri": "https://localhost:8080/"
        },
        "id": "ncb2UYKqRGDi",
        "outputId": "322d3eba-fa9e-41d1-83a5-c99a663c4b60"
      },
      "execution_count": null,
      "outputs": [
        {
          "output_type": "stream",
          "name": "stdout",
          "text": [
            "converged SCF energy = -1.116998996754\n",
            "FCI energy (STO-3G): -1.1373060357534004\n"
          ]
        }
      ]
    }
  ]
}